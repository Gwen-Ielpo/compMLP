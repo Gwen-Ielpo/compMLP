{
  "nbformat": 4,
  "nbformat_minor": 0,
  "metadata": {
    "kernelspec": {
      "display_name": "Python 3",
      "language": "python",
      "name": "python3"
    },
    "language_info": {
      "codemirror_mode": {
        "name": "ipython",
        "version": 3
      },
      "file_extension": ".py",
      "mimetype": "text/x-python",
      "name": "python",
      "nbconvert_exporter": "python",
      "pygments_lexer": "ipython3",
      "version": "3.6.8"
    },
    "colab": {
      "name": "CompMLP_19_02_2020.ipynb",
      "provenance": [],
      "collapsed_sections": [],
      "machine_shape": "hm"
    }
  },
  "cells": [
    {
      "cell_type": "code",
      "metadata": {
        "id": "OdIQ93_ZSgmo",
        "colab_type": "code",
        "outputId": "bbce9f97-fa2b-4901-bc53-4a6b013913f5",
        "colab": {
          "base_uri": "https://localhost:8080/",
          "height": 68
        }
      },
      "source": [
        "!pip install netCDF4\n",
        "import numpy as np\n",
        "import itertools\n",
        "\n",
        "from scipy import linalg\n",
        "import matplotlib.pyplot as plt\n",
        "import matplotlib as mpl\n",
        "\n",
        "from sklearn import mixture\n",
        "from sklearn.linear_model import LinearRegression\n",
        "\n",
        "import netCDF4\n",
        "from netCDF4 import Dataset\n",
        "import pathlib\n",
        "\n",
        "\n",
        "import numpy as np\n",
        "import pandas as pd\n",
        "import seaborn as sns\n",
        "\n",
        "import tensorflow as tf\n",
        "\n",
        "from tensorflow import keras\n",
        "from tensorflow.keras import layers\n",
        "from keras.models import Sequential\n",
        "from keras.layers import Input\n",
        "from keras.layers import Dense\n",
        "from keras.layers import Lambda\n",
        "from keras.layers import Flatten\n",
        "from keras.layers import Dropout\n",
        "#import tensorflow_docs as tfdocs\n",
        "#import tensorflow_docs.plots\n",
        "#import tensorflow_docs.modeling\n",
        "from keras.callbacks import EarlyStopping\n",
        "import xarray as xr\n",
        "\n",
        "import torch\n",
        "import torch.nn as nn\n",
        "import torch.nn.functional as f\n",
        "\n",
        "from datetime import date\n",
        "import datetime"
      ],
      "execution_count": 58,
      "outputs": [
        {
          "output_type": "stream",
          "text": [
            "Requirement already satisfied: netCDF4 in /usr/local/lib/python3.6/dist-packages (1.5.3)\n",
            "Requirement already satisfied: numpy>=1.7 in /usr/local/lib/python3.6/dist-packages (from netCDF4) (1.17.5)\n",
            "Requirement already satisfied: cftime in /usr/local/lib/python3.6/dist-packages (from netCDF4) (1.1.0)\n"
          ],
          "name": "stdout"
        }
      ]
    },
    {
      "cell_type": "code",
      "metadata": {
        "id": "qHcChI3y1GmD",
        "colab_type": "code",
        "colab": {}
      },
      "source": [
        "from sklearn import datasets, linear_model\n",
        "from sklearn.metrics import mean_squared_error, r2_score\n",
        "from sklearn.neural_network import MLPRegressor\n",
        "from time import time\n",
        "from sklearn.model_selection import train_test_split\n",
        "from sklearn.preprocessing import QuantileTransformer\n",
        "from sklearn.pipeline import make_pipeline\n",
        "\n",
        "from sklearn.inspection import partial_dependence\n",
        "from sklearn.inspection import plot_partial_dependence\n",
        "from sklearn.experimental import enable_hist_gradient_boosting  # noqa\n",
        "from sklearn.ensemble import HistGradientBoostingRegressor\n",
        "\n",
        "from torch.autograd import Variable"
      ],
      "execution_count": 0,
      "outputs": []
    },
    {
      "cell_type": "markdown",
      "metadata": {
        "id": "diEeNZm859Zt",
        "colab_type": "text"
      },
      "source": [
        "# Functions"
      ]
    },
    {
      "cell_type": "markdown",
      "metadata": {
        "id": "gyIC3depPUvY",
        "colab_type": "text"
      },
      "source": [
        "#ResNet implementation\n"
      ]
    },
    {
      "cell_type": "code",
      "metadata": {
        "id": "Pet7xzA2YsdB",
        "colab_type": "code",
        "outputId": "9e9c9360-0cc3-4faa-fa39-a967f80ae1df",
        "colab": {
          "base_uri": "https://localhost:8080/",
          "height": 34
        }
      },
      "source": [
        "\n",
        "from google.colab import drive\n",
        "drive.mount('/content/gdrive')"
      ],
      "execution_count": 60,
      "outputs": [
        {
          "output_type": "stream",
          "text": [
            "Drive already mounted at /content/gdrive; to attempt to forcibly remount, call drive.mount(\"/content/gdrive\", force_remount=True).\n"
          ],
          "name": "stdout"
        }
      ]
    },
    {
      "cell_type": "markdown",
      "metadata": {
        "colab_type": "text",
        "id": "gmbZQN66GJs2"
      },
      "source": [
        "# Select the Aghulas region in the dataset (2004 period)\n",
        "\n"
      ]
    },
    {
      "cell_type": "code",
      "metadata": {
        "id": "i32vHtnab_jI",
        "colab_type": "code",
        "outputId": "b82fa2f8-00ff-414f-80f3-afd9b7d37208",
        "colab": {
          "base_uri": "https://localhost:8080/",
          "height": 663
        }
      },
      "source": [
        "ds = xr.open_dataset(\"/content/gdrive/My Drive/dataset/SST_SSH_U_V_SLA_global_2004.nc\")\n",
        "print(ds.sizes)\n",
        "ds"
      ],
      "execution_count": 61,
      "outputs": [
        {
          "output_type": "stream",
          "text": [
            "Frozen(SortedKeysDict({'lon': 1440, 'lat': 720, 'time': 366}))\n"
          ],
          "name": "stdout"
        },
        {
          "output_type": "execute_result",
          "data": {
            "text/html": [
              "<pre>&lt;xarray.Dataset&gt;\n",
              "Dimensions:  (lat: 720, lon: 1440, time: 366)\n",
              "Coordinates:\n",
              "  * lon      (lon) float32 -179.875 -179.625 -179.375 ... 179.625 179.875\n",
              "  * lat      (lat) float32 -89.875 -89.625 -89.375 ... 89.375 89.625 89.875\n",
              "  * time     (time) datetime64[ns] 2004-01-01T12:00:00 ... 1981-01-01\n",
              "Data variables:\n",
              "    SST      (time, lat, lon) float32 ...\n",
              "    SSH      (time, lon, lat) float32 ...\n",
              "    U        (time, lon, lat) float32 ...\n",
              "    V        (time, lon, lat) float32 ...\n",
              "    SLA      (time, lon, lat) float32 ...\n",
              "Attributes:\n",
              "    CDI:                    Climate Data Interface version 1.5.3 (http://code...\n",
              "    Conventions:            CF-1.0\n",
              "    history:                Mon Jul 21 17:26:58 2014: cdo merge SST_SSH_U_V_g...\n",
              "    title:                  Analysed foundation sea surface temperature, global\n",
              "    DSD_entry_id:           REMSS-L4LRfnd-GLOB-tmi_amsre_OI\n",
              "    references:             none\n",
              "    source_data:            TMI-REMSS,AMSRE-REMSS\n",
              "    contact:                support@remss.com\n",
              "    GDS_version_id:         GDS-v1.0-rev1.6\n",
              "    netcdf_version_id:      3.5.0\n",
              "    creation_date:          2010-08-04\n",
              "    product_version:        v03\n",
              "    spatial_resolution:     25 km\n",
              "    start_date:             2003-12-30\n",
              "    start_time:             00:00:00 UTC\n",
              "    stop_date:              2004-01-03\n",
              "    stop_time:              23:59:59 UTC\n",
              "    southernmost_latitude:  -89.875\n",
              "    northernmost_latitude:  89.875\n",
              "    westernmost_longitude:  -179.875\n",
              "    easternmost_longitude:  179.875\n",
              "    file_quality_index:     1\n",
              "    comment:                www.remss.com for more infomation on product\n",
              "    CDO:                    Climate Data Operators version 1.5.3 (http://code...</pre>"
            ],
            "text/plain": [
              "<xarray.Dataset>\n",
              "Dimensions:  (lat: 720, lon: 1440, time: 366)\n",
              "Coordinates:\n",
              "  * lon      (lon) float32 -179.875 -179.625 -179.375 ... 179.625 179.875\n",
              "  * lat      (lat) float32 -89.875 -89.625 -89.375 ... 89.375 89.625 89.875\n",
              "  * time     (time) datetime64[ns] 2004-01-01T12:00:00 ... 1981-01-01\n",
              "Data variables:\n",
              "    SST      (time, lat, lon) float32 ...\n",
              "    SSH      (time, lon, lat) float32 ...\n",
              "    U        (time, lon, lat) float32 ...\n",
              "    V        (time, lon, lat) float32 ...\n",
              "    SLA      (time, lon, lat) float32 ...\n",
              "Attributes:\n",
              "    CDI:                    Climate Data Interface version 1.5.3 (http://code...\n",
              "    Conventions:            CF-1.0\n",
              "    history:                Mon Jul 21 17:26:58 2014: cdo merge SST_SSH_U_V_g...\n",
              "    title:                  Analysed foundation sea surface temperature, global\n",
              "    DSD_entry_id:           REMSS-L4LRfnd-GLOB-tmi_amsre_OI\n",
              "    references:             none\n",
              "    source_data:            TMI-REMSS,AMSRE-REMSS\n",
              "    contact:                support@remss.com\n",
              "    GDS_version_id:         GDS-v1.0-rev1.6\n",
              "    netcdf_version_id:      3.5.0\n",
              "    creation_date:          2010-08-04\n",
              "    product_version:        v03\n",
              "    spatial_resolution:     25 km\n",
              "    start_date:             2003-12-30\n",
              "    start_time:             00:00:00 UTC\n",
              "    stop_date:              2004-01-03\n",
              "    stop_time:              23:59:59 UTC\n",
              "    southernmost_latitude:  -89.875\n",
              "    northernmost_latitude:  89.875\n",
              "    westernmost_longitude:  -179.875\n",
              "    easternmost_longitude:  179.875\n",
              "    file_quality_index:     1\n",
              "    comment:                www.remss.com for more infomation on product\n",
              "    CDO:                    Climate Data Operators version 1.5.3 (http://code..."
            ]
          },
          "metadata": {
            "tags": []
          },
          "execution_count": 61
        }
      ]
    },
    {
      "cell_type": "code",
      "metadata": {
        "id": "sL5XVcroilBH",
        "colab_type": "code",
        "outputId": "fe82753c-817a-4d06-974f-f231fb02bfa2",
        "colab": {
          "base_uri": "https://localhost:8080/",
          "height": 874
        }
      },
      "source": [
        "ds_cut = ds.sel(lon=slice(30,42),lat=slice(-48,-30))\n",
        "ds_cut = ds_cut.isel(time=slice(0,12))\n",
        "#ds_cut.SST[0].plot()\n",
        "SSH = ds_cut.SSH.transpose('time','lat','lon')\n",
        "SSH[0].plot()\n",
        "SSH"
      ],
      "execution_count": 62,
      "outputs": [
        {
          "output_type": "execute_result",
          "data": {
            "text/html": [
              "<pre>&lt;xarray.DataArray &#x27;SSH&#x27; (time: 12, lat: 72, lon: 48)&gt;\n",
              "array([[[ -5.574714,  -6.155329, ..., -34.895947, -33.42079 ],\n",
              "        [ -0.572258,  -3.527388, ..., -31.192028, -28.516459],\n",
              "        ...,\n",
              "        [       nan, 113.63799 , ...,  98.154755,  99.09104 ],\n",
              "        [       nan,        nan, ...,  98.69932 ,  98.55898 ]],\n",
              "\n",
              "       [[ -5.658106,  -6.327619, ..., -35.525436, -33.864185],\n",
              "        [ -0.544024,  -3.541416, ..., -31.856031, -29.049414],\n",
              "        ...,\n",
              "        [       nan, 112.69552 , ...,  97.60034 ,  98.748795],\n",
              "        [       nan,        nan, ...,  98.0821  ,  98.23634 ]],\n",
              "\n",
              "       ...,\n",
              "\n",
              "       [[ -5.6123  ,  -7.397834, ..., -42.283535, -40.40145 ],\n",
              "        [ -0.696458,  -4.263872, ..., -37.570095, -35.25012 ],\n",
              "        ...,\n",
              "        [       nan, 100.381996, ...,  97.1305  ,  98.56167 ],\n",
              "        [       nan,        nan, ...,  97.77205 ,  97.48329 ]],\n",
              "\n",
              "       [[ -5.573909,  -7.503035, ..., -42.911316, -41.102127],\n",
              "        [ -0.75783 ,  -4.403431, ..., -38.07751 , -35.872807],\n",
              "        ...,\n",
              "        [       nan,  98.513695, ...,  97.75286 ,  99.09238 ],\n",
              "        [       nan,        nan, ...,  98.580444,  98.0345  ]]], dtype=float32)\n",
              "Coordinates:\n",
              "  * lon      (lon) float32 30.125 30.375 30.625 30.875 ... 41.375 41.625 41.875\n",
              "  * lat      (lat) float32 -47.875 -47.625 -47.375 ... -30.625 -30.375 -30.125\n",
              "  * time     (time) datetime64[ns] 2004-01-01T12:00:00 ... 2004-01-12T12:00:00\n",
              "Attributes:\n",
              "    long_name:        H\n",
              "    units:            cm\n",
              "    _CoordinateAxes:  time NbLongitudes NbLatitudes </pre>"
            ],
            "text/plain": [
              "<xarray.DataArray 'SSH' (time: 12, lat: 72, lon: 48)>\n",
              "array([[[ -5.574714,  -6.155329, ..., -34.895947, -33.42079 ],\n",
              "        [ -0.572258,  -3.527388, ..., -31.192028, -28.516459],\n",
              "        ...,\n",
              "        [       nan, 113.63799 , ...,  98.154755,  99.09104 ],\n",
              "        [       nan,        nan, ...,  98.69932 ,  98.55898 ]],\n",
              "\n",
              "       [[ -5.658106,  -6.327619, ..., -35.525436, -33.864185],\n",
              "        [ -0.544024,  -3.541416, ..., -31.856031, -29.049414],\n",
              "        ...,\n",
              "        [       nan, 112.69552 , ...,  97.60034 ,  98.748795],\n",
              "        [       nan,        nan, ...,  98.0821  ,  98.23634 ]],\n",
              "\n",
              "       ...,\n",
              "\n",
              "       [[ -5.6123  ,  -7.397834, ..., -42.283535, -40.40145 ],\n",
              "        [ -0.696458,  -4.263872, ..., -37.570095, -35.25012 ],\n",
              "        ...,\n",
              "        [       nan, 100.381996, ...,  97.1305  ,  98.56167 ],\n",
              "        [       nan,        nan, ...,  97.77205 ,  97.48329 ]],\n",
              "\n",
              "       [[ -5.573909,  -7.503035, ..., -42.911316, -41.102127],\n",
              "        [ -0.75783 ,  -4.403431, ..., -38.07751 , -35.872807],\n",
              "        ...,\n",
              "        [       nan,  98.513695, ...,  97.75286 ,  99.09238 ],\n",
              "        [       nan,        nan, ...,  98.580444,  98.0345  ]]], dtype=float32)\n",
              "Coordinates:\n",
              "  * lon      (lon) float32 30.125 30.375 30.625 30.875 ... 41.375 41.625 41.875\n",
              "  * lat      (lat) float32 -47.875 -47.625 -47.375 ... -30.625 -30.375 -30.125\n",
              "  * time     (time) datetime64[ns] 2004-01-01T12:00:00 ... 2004-01-12T12:00:00\n",
              "Attributes:\n",
              "    long_name:        H\n",
              "    units:            cm\n",
              "    _CoordinateAxes:  time NbLongitudes NbLatitudes "
            ]
          },
          "metadata": {
            "tags": []
          },
          "execution_count": 62
        },
        {
          "output_type": "display_data",
          "data": {
            "image/png": "[encoded data removed]",
            "text/plain": [
              "<Figure size 432x288 with 2 Axes>"
            ]
          },
          "metadata": {
            "tags": []
          }
        }
      ]
    },
    {
      "cell_type": "code",
      "metadata": {
        "id": "Fre1fo9_iAlD",
        "colab_type": "code",
        "outputId": "a390ea85-c8a9-4b7c-cc9f-0b02654280ff",
        "colab": {
          "base_uri": "https://localhost:8080/",
          "height": 313
        }
      },
      "source": [
        "SST = ds_cut.SST\n",
        "SST[0].plot()"
      ],
      "execution_count": 63,
      "outputs": [
        {
          "output_type": "execute_result",
          "data": {
            "text/plain": [
              "<matplotlib.collections.QuadMesh at 0x7f23de791128>"
            ]
          },
          "metadata": {
            "tags": []
          },
          "execution_count": 63
        },
        {
          "output_type": "display_data",
          "data": {
            "image/png": "[encoded data removed]",
            "text/plain": [
              "<Figure size 432x288 with 2 Axes>"
            ]
          },
          "metadata": {
            "tags": []
          }
        }
      ]
    },
    {
      "cell_type": "code",
      "metadata": {
        "id": "h-__2LIGBie3",
        "colab_type": "code",
        "outputId": "f75899a8-351f-4857-8dcb-bf22db19a60e",
        "colab": {
          "base_uri": "https://localhost:8080/",
          "height": 313
        }
      },
      "source": [
        "U = ds_cut.U\n",
        "V = ds_cut.V\n",
        "UV = U + V\n",
        "UV[0].plot()"
      ],
      "execution_count": 64,
      "outputs": [
        {
          "output_type": "execute_result",
          "data": {
            "text/plain": [
              "<matplotlib.collections.QuadMesh at 0x7f23d6e7cd68>"
            ]
          },
          "metadata": {
            "tags": []
          },
          "execution_count": 64
        },
        {
          "output_type": "display_data",
          "data": {
            "image/png": "[encoded data removed]",
            "text/plain": [
              "<Figure size 432x288 with 2 Axes>"
            ]
          },
          "metadata": {
            "tags": []
          }
        }
      ]
    },
    {
      "cell_type": "markdown",
      "metadata": {
        "id": "11QqAgIe59Z4",
        "colab_type": "text"
      },
      "source": [
        "# Create one row with temperature profile and patch data\n",
        "\n",
        "Concatenate SST and SSH in a single row\n"
      ]
    },
    {
      "cell_type": "code",
      "metadata": {
        "id": "m21XBrFqFYj6",
        "colab_type": "code",
        "outputId": "0189d4f0-28f4-42fe-c1d4-17e1c2eb98e9",
        "colab": {
          "base_uri": "https://localhost:8080/",
          "height": 34
        }
      },
      "source": [
        "ssh = SSH.isel()#.stack(features=('latitude','longitude'))\n",
        "sst = SST.isel()#.stack(features=('latitude','longitude'))\n",
        "u = U.isel()\n",
        "v = V.isel()\n",
        "# Reduce the size \n",
        "sst = sst[:,range(5,7),range(5,7)].stack(features=('lat','lon')) # 5X5\n",
        "\n",
        "ssh = ssh[:,range(5,7),range(5,7)].stack(features=('lat','lon')) # 5X5\n",
        "u = u[:,range(5,7),range(5,7)].stack(features=('lat','lon'))\n",
        "v = v[:,range(5,7),range(5,7)].stack(features=('lat','lon'))\n",
        "# Possibly normalise features:\n",
        "#temp = (temp - np.mean(temp))/np.std(temp)  # Normalize by depth\n",
        "#sla = (sla - np.mean(sla))/np.std(sla)\n",
        "#sst = (sst - np.mean(sst))/np.std(sst)\n",
        "\n",
        "# Merge:\n",
        "features = np.concatenate((sst, ssh, u, v), axis=1)\n",
        "print(features.shape)"
      ],
      "execution_count": 50,
      "outputs": [
        {
          "output_type": "stream",
          "text": [
            "(12, 16)\n"
          ],
          "name": "stdout"
        }
      ]
    },
    {
      "cell_type": "code",
      "metadata": {
        "id": "eb1O91JN4ofc",
        "colab_type": "code",
        "outputId": "b37cf49a-0a11-4330-be69-49db4bbebb8d",
        "colab": {
          "base_uri": "https://localhost:8080/",
          "height": 323
        }
      },
      "source": [
        "lat = ds_cut['lat'].isel()\n",
        "lon = ds_cut['lon'].isel()\n",
        "lat\n",
        "#lat= lat[:,6,6].values\n",
        "#long = lon[:,6,6].values"
      ],
      "execution_count": 51,
      "outputs": [
        {
          "output_type": "execute_result",
          "data": {
            "text/html": [
              "<pre>&lt;xarray.DataArray &#x27;lat&#x27; (lat: 72)&gt;\n",
              "array([-47.875, -47.625, -47.375, -47.125, -46.875, -46.625, -46.375, -46.125,\n",
              "       -45.875, -45.625, -45.375, -45.125, -44.875, -44.625, -44.375, -44.125,\n",
              "       -43.875, -43.625, -43.375, -43.125, -42.875, -42.625, -42.375, -42.125,\n",
              "       -41.875, -41.625, -41.375, -41.125, -40.875, -40.625, -40.375, -40.125,\n",
              "       -39.875, -39.625, -39.375, -39.125, -38.875, -38.625, -38.375, -38.125,\n",
              "       -37.875, -37.625, -37.375, -37.125, -36.875, -36.625, -36.375, -36.125,\n",
              "       -35.875, -35.625, -35.375, -35.125, -34.875, -34.625, -34.375, -34.125,\n",
              "       -33.875, -33.625, -33.375, -33.125, -32.875, -32.625, -32.375, -32.125,\n",
              "       -31.875, -31.625, -31.375, -31.125, -30.875, -30.625, -30.375, -30.125],\n",
              "      dtype=float32)\n",
              "Coordinates:\n",
              "  * lat      (lat) float32 -47.875 -47.625 -47.375 ... -30.625 -30.375 -30.125\n",
              "Attributes:\n",
              "    standard_name:  latitude\n",
              "    long_name:      latitude\n",
              "    units:          degrees_north\n",
              "    axis:           Y</pre>"
            ],
            "text/plain": [
              "<xarray.DataArray 'lat' (lat: 72)>\n",
              "array([-47.875, -47.625, -47.375, -47.125, -46.875, -46.625, -46.375, -46.125,\n",
              "       -45.875, -45.625, -45.375, -45.125, -44.875, -44.625, -44.375, -44.125,\n",
              "       -43.875, -43.625, -43.375, -43.125, -42.875, -42.625, -42.375, -42.125,\n",
              "       -41.875, -41.625, -41.375, -41.125, -40.875, -40.625, -40.375, -40.125,\n",
              "       -39.875, -39.625, -39.375, -39.125, -38.875, -38.625, -38.375, -38.125,\n",
              "       -37.875, -37.625, -37.375, -37.125, -36.875, -36.625, -36.375, -36.125,\n",
              "       -35.875, -35.625, -35.375, -35.125, -34.875, -34.625, -34.375, -34.125,\n",
              "       -33.875, -33.625, -33.375, -33.125, -32.875, -32.625, -32.375, -32.125,\n",
              "       -31.875, -31.625, -31.375, -31.125, -30.875, -30.625, -30.375, -30.125],\n",
              "      dtype=float32)\n",
              "Coordinates:\n",
              "  * lat      (lat) float32 -47.875 -47.625 -47.375 ... -30.625 -30.375 -30.125\n",
              "Attributes:\n",
              "    standard_name:  latitude\n",
              "    long_name:      latitude\n",
              "    units:          degrees_north\n",
              "    axis:           Y"
            ]
          },
          "metadata": {
            "tags": []
          },
          "execution_count": 51
        }
      ]
    },
    {
      "cell_type": "code",
      "metadata": {
        "id": "bWp05N1PcLIa",
        "colab_type": "code",
        "outputId": "2ceba0d8-8006-45e2-ae98-4047711babf8",
        "colab": {
          "base_uri": "https://localhost:8080/",
          "height": 297
        }
      },
      "source": [
        "df = ds_cut.to_dataframe()\n",
        "#dfy = ssh_32.to_dataframe()\n",
        "#df.dropna()\n",
        "df.describe()"
      ],
      "execution_count": 65,
      "outputs": [
        {
          "output_type": "execute_result",
          "data": {
            "text/html": [
              "<div>\n",
              "<style scoped>\n",
              "    .dataframe tbody tr th:only-of-type {\n",
              "        vertical-align: middle;\n",
              "    }\n",
              "\n",
              "    .dataframe tbody tr th {\n",
              "        vertical-align: top;\n",
              "    }\n",
              "\n",
              "    .dataframe thead th {\n",
              "        text-align: right;\n",
              "    }\n",
              "</style>\n",
              "<table border=\"1\" class=\"dataframe\">\n",
              "  <thead>\n",
              "    <tr style=\"text-align: right;\">\n",
              "      <th></th>\n",
              "      <th>SST</th>\n",
              "      <th>SSH</th>\n",
              "      <th>U</th>\n",
              "      <th>V</th>\n",
              "      <th>SLA</th>\n",
              "    </tr>\n",
              "  </thead>\n",
              "  <tbody>\n",
              "    <tr>\n",
              "      <th>count</th>\n",
              "      <td>40500.000000</td>\n",
              "      <td>41412.000000</td>\n",
              "      <td>41364.000000</td>\n",
              "      <td>41364.000000</td>\n",
              "      <td>41472.000000</td>\n",
              "    </tr>\n",
              "    <tr>\n",
              "      <th>mean</th>\n",
              "      <td>289.664276</td>\n",
              "      <td>64.655746</td>\n",
              "      <td>6.411788</td>\n",
              "      <td>-0.070271</td>\n",
              "      <td>2.489863</td>\n",
              "    </tr>\n",
              "    <tr>\n",
              "      <th>std</th>\n",
              "      <td>6.153758</td>\n",
              "      <td>53.301701</td>\n",
              "      <td>21.215746</td>\n",
              "      <td>25.168777</td>\n",
              "      <td>19.469158</td>\n",
              "    </tr>\n",
              "    <tr>\n",
              "      <th>min</th>\n",
              "      <td>276.899994</td>\n",
              "      <td>-55.868542</td>\n",
              "      <td>-87.633102</td>\n",
              "      <td>-112.401688</td>\n",
              "      <td>-83.590195</td>\n",
              "    </tr>\n",
              "    <tr>\n",
              "      <th>25%</th>\n",
              "      <td>283.500000</td>\n",
              "      <td>11.294086</td>\n",
              "      <td>-4.592491</td>\n",
              "      <td>-8.285192</td>\n",
              "      <td>-4.559412</td>\n",
              "    </tr>\n",
              "    <tr>\n",
              "      <th>50%</th>\n",
              "      <td>291.899994</td>\n",
              "      <td>72.345314</td>\n",
              "      <td>4.140983</td>\n",
              "      <td>0.398307</td>\n",
              "      <td>1.157793</td>\n",
              "    </tr>\n",
              "    <tr>\n",
              "      <th>75%</th>\n",
              "      <td>294.600006</td>\n",
              "      <td>115.131859</td>\n",
              "      <td>16.015892</td>\n",
              "      <td>10.451034</td>\n",
              "      <td>10.676555</td>\n",
              "    </tr>\n",
              "    <tr>\n",
              "      <th>max</th>\n",
              "      <td>300.600006</td>\n",
              "      <td>156.009079</td>\n",
              "      <td>100.164955</td>\n",
              "      <td>115.808044</td>\n",
              "      <td>77.775757</td>\n",
              "    </tr>\n",
              "  </tbody>\n",
              "</table>\n",
              "</div>"
            ],
            "text/plain": [
              "                SST           SSH             U             V           SLA\n",
              "count  40500.000000  41412.000000  41364.000000  41364.000000  41472.000000\n",
              "mean     289.664276     64.655746      6.411788     -0.070271      2.489863\n",
              "std        6.153758     53.301701     21.215746     25.168777     19.469158\n",
              "min      276.899994    -55.868542    -87.633102   -112.401688    -83.590195\n",
              "25%      283.500000     11.294086     -4.592491     -8.285192     -4.559412\n",
              "50%      291.899994     72.345314      4.140983      0.398307      1.157793\n",
              "75%      294.600006    115.131859     16.015892     10.451034     10.676555\n",
              "max      300.600006    156.009079    100.164955    115.808044     77.775757"
            ]
          },
          "metadata": {
            "tags": []
          },
          "execution_count": 65
        }
      ]
    },
    {
      "cell_type": "code",
      "metadata": {
        "id": "-6wcCxr7y9ew",
        "colab_type": "code",
        "outputId": "d358863c-775b-45ab-b97a-6aa9b0d06e26",
        "colab": {
          "base_uri": "https://localhost:8080/",
          "height": 102
        }
      },
      "source": [
        "for v in ds_cut.data_vars:\n",
        "    print('{:>10}: {}'.format(v, ds[v].attrs['long_name']))"
      ],
      "execution_count": 66,
      "outputs": [
        {
          "output_type": "stream",
          "text": [
            "       SST: analysed sea surface temperature\n",
            "       SSH: H\n",
            "         U: U\n",
            "         V: V\n",
            "       SLA: H\n"
          ],
          "name": "stdout"
        }
      ]
    },
    {
      "cell_type": "markdown",
      "metadata": {
        "id": "ue6rf5Su59aF",
        "colab_type": "text"
      },
      "source": [
        "## I - Remove Nan Value"
      ]
    },
    {
      "cell_type": "code",
      "metadata": {
        "id": "CSfjI6aRvoC9",
        "colab_type": "code",
        "outputId": "ead11536-d31a-408f-ebd6-0e5a5ccba8de",
        "colab": {
          "base_uri": "https://localhost:8080/",
          "height": 297
        }
      },
      "source": [
        "df2 = df.fillna(df.mean())\n",
        "df2.describe()"
      ],
      "execution_count": 67,
      "outputs": [
        {
          "output_type": "execute_result",
          "data": {
            "text/html": [
              "<div>\n",
              "<style scoped>\n",
              "    .dataframe tbody tr th:only-of-type {\n",
              "        vertical-align: middle;\n",
              "    }\n",
              "\n",
              "    .dataframe tbody tr th {\n",
              "        vertical-align: top;\n",
              "    }\n",
              "\n",
              "    .dataframe thead th {\n",
              "        text-align: right;\n",
              "    }\n",
              "</style>\n",
              "<table border=\"1\" class=\"dataframe\">\n",
              "  <thead>\n",
              "    <tr style=\"text-align: right;\">\n",
              "      <th></th>\n",
              "      <th>SST</th>\n",
              "      <th>SSH</th>\n",
              "      <th>U</th>\n",
              "      <th>V</th>\n",
              "      <th>SLA</th>\n",
              "    </tr>\n",
              "  </thead>\n",
              "  <tbody>\n",
              "    <tr>\n",
              "      <th>count</th>\n",
              "      <td>41472.000000</td>\n",
              "      <td>41472.000000</td>\n",
              "      <td>41472.000000</td>\n",
              "      <td>41472.000000</td>\n",
              "      <td>41472.000000</td>\n",
              "    </tr>\n",
              "    <tr>\n",
              "      <th>mean</th>\n",
              "      <td>289.667908</td>\n",
              "      <td>64.655884</td>\n",
              "      <td>6.411782</td>\n",
              "      <td>-0.070271</td>\n",
              "      <td>2.489863</td>\n",
              "    </tr>\n",
              "    <tr>\n",
              "      <th>std</th>\n",
              "      <td>6.081239</td>\n",
              "      <td>53.263115</td>\n",
              "      <td>21.188105</td>\n",
              "      <td>25.135983</td>\n",
              "      <td>19.469158</td>\n",
              "    </tr>\n",
              "    <tr>\n",
              "      <th>min</th>\n",
              "      <td>276.899994</td>\n",
              "      <td>-55.868542</td>\n",
              "      <td>-87.633102</td>\n",
              "      <td>-112.401688</td>\n",
              "      <td>-83.590195</td>\n",
              "    </tr>\n",
              "    <tr>\n",
              "      <th>25%</th>\n",
              "      <td>283.799988</td>\n",
              "      <td>11.361397</td>\n",
              "      <td>-4.565167</td>\n",
              "      <td>-8.247753</td>\n",
              "      <td>-4.559412</td>\n",
              "    </tr>\n",
              "    <tr>\n",
              "      <th>50%</th>\n",
              "      <td>291.750000</td>\n",
              "      <td>72.005962</td>\n",
              "      <td>4.190631</td>\n",
              "      <td>0.358250</td>\n",
              "      <td>1.157793</td>\n",
              "    </tr>\n",
              "    <tr>\n",
              "      <th>75%</th>\n",
              "      <td>294.449982</td>\n",
              "      <td>115.106441</td>\n",
              "      <td>15.983466</td>\n",
              "      <td>10.422707</td>\n",
              "      <td>10.676555</td>\n",
              "    </tr>\n",
              "    <tr>\n",
              "      <th>max</th>\n",
              "      <td>300.600006</td>\n",
              "      <td>156.009079</td>\n",
              "      <td>100.164955</td>\n",
              "      <td>115.808044</td>\n",
              "      <td>77.775757</td>\n",
              "    </tr>\n",
              "  </tbody>\n",
              "</table>\n",
              "</div>"
            ],
            "text/plain": [
              "                SST           SSH             U             V           SLA\n",
              "count  41472.000000  41472.000000  41472.000000  41472.000000  41472.000000\n",
              "mean     289.667908     64.655884      6.411782     -0.070271      2.489863\n",
              "std        6.081239     53.263115     21.188105     25.135983     19.469158\n",
              "min      276.899994    -55.868542    -87.633102   -112.401688    -83.590195\n",
              "25%      283.799988     11.361397     -4.565167     -8.247753     -4.559412\n",
              "50%      291.750000     72.005962      4.190631      0.358250      1.157793\n",
              "75%      294.449982    115.106441     15.983466     10.422707     10.676555\n",
              "max      300.600006    156.009079    100.164955    115.808044     77.775757"
            ]
          },
          "metadata": {
            "tags": []
          },
          "execution_count": 67
        }
      ]
    },
    {
      "cell_type": "markdown",
      "metadata": {
        "id": "hNKA1qq0FWG2",
        "colab_type": "text"
      },
      "source": [
        "#Generate patchs"
      ]
    },
    {
      "cell_type": "code",
      "metadata": {
        "colab_type": "code",
        "outputId": "2682fdeb-35b0-4c84-a52c-aff0dfd50f8e",
        "id": "pbpopbdBhsmP",
        "colab": {
          "base_uri": "https://localhost:8080/",
          "height": 1000
        }
      },
      "source": [
        "from sklearn.feature_extraction import image\n",
        "\n",
        "# Create the array that contains all the SSH, SST, U, V patchs, dim: 1D\n",
        "SSH_patches = np.empty(([12,2161,169]))\n",
        "SST_patches = np.empty(([12,2161,169]))\n",
        "U_patches = np.empty(([12,2161,169]))\n",
        "V_patches = np.empty(([12,2161,169]))\n",
        "\n",
        "#fill NaN values with the mean of the SSH, SST, U, V mean\n",
        "SSHf = SSH.fillna(SSH.mean())\n",
        "print('SSH shape: {}'.format(SSH.shape))\n",
        "\n",
        "SSTf = SST.fillna(SST.mean())\n",
        "print('SST shape: {}'.format(SST.shape))\n",
        "\n",
        "Uf = U.fillna(U.mean())\n",
        "print('U shape: {}'.format(U.shape))\n",
        "\n",
        "Vf = V.fillna(V.mean())\n",
        "print('V shape: {}'.format(V.shape))\n",
        "\n",
        "#for each time step, compute patches of size (13x13), flatten them in 1D and concatenate them in SSH_patches, SST_patches, U_patches, V_patches\n",
        "#output : 1D array of SSH patchs\n",
        "for i in range(ds_cut.time.shape[0]):\n",
        "  print(\"Round : \"+ str(i))\n",
        "  patchesH = image.extract_patches_2d(SSHf[i], (13, 13)) \n",
        "  print(\" SSH_patches shape \" + str(SSH_patches.shape) )\n",
        "\n",
        "  patchesT = image.extract_patches_2d(SSTf[i], (13, 13)) \n",
        "  print(\" SST_patches shape \" + str(SST_patches.shape) )\n",
        "\n",
        "  patchesU = image.extract_patches_2d(Uf[i], (13, 13)) \n",
        "  print(\" U_patches shape \" + str(U_patches.shape) )\n",
        "\n",
        "  patchesV = image.extract_patches_2d(Vf[i], (13, 13)) \n",
        "  print(\" V_patches shape \" +str(V_patches.shape) )\n",
        "\n",
        "  SSH_p = np.empty(([169]))\n",
        "  SST_p = np.empty(([169]))\n",
        "  U_p = np.empty(([169]))\n",
        "  V_p = np.empty(([169]))\n",
        "\n",
        "  # for each patch generated, flatten the patch in 1D and stack it\n",
        "  for j in range(patchesH.shape[0]):\n",
        "    flath = np.ravel(patchesH[j])\n",
        "    SSH_p = np.vstack((SSH_p,flath))\n",
        "\n",
        "    flatt = np.ravel(patchesT[j])\n",
        "    SST_p = np.vstack((SST_p,flatt))\n",
        "\n",
        "    flatU = np.ravel(patchesU[j])\n",
        "    U_p = np.vstack((U_p,flatU))\n",
        "\n",
        "    flatV = np.ravel(patchesV[j])\n",
        "    V_p = np.vstack((V_p,flatV))\n",
        "\n",
        "  print(\"SSH \" + str(SSH_patches[i].shape))\n",
        "  print(\"p \" + str(SSH_p.shape))\n",
        "  SSH_patches[i] = SSH_p\n",
        "\n",
        "  \"\"\"SSH_patches = np.stack((SSH_patches,SSH_p))\n",
        "  SST_patches = np.stack((SST_patches,SST_p))\n",
        "  U_patches = np.stack((U_patches,U_p))\n",
        "  V_patches = np.stack((V_patches,V_p))\"\"\"\n",
        "\n",
        "print('Patches shape: {}'.format(SST_patches.shape))\n",
        "print('Patches shape: {}'.format(SSH_patches.shape))\n",
        "print('Patches shape: {}'.format(U_patches.shape))\n",
        "print('Patches shape: {}'.format(V_patches.shape))\n"
      ],
      "execution_count": 68,
      "outputs": [
        {
          "output_type": "stream",
          "text": [
            "SSH shape: (12, 72, 48)\n",
            "SST shape: (12, 72, 48)\n",
            "U shape: (12, 48, 72)\n",
            "V shape: (12, 48, 72)\n",
            "Round : 0\n",
            " SSH_patches shape (12, 2161, 169)\n",
            " SST_patches shape (12, 2161, 169)\n",
            " U_patches shape (12, 2161, 169)\n",
            " V_patches shape (12, 2161, 169)\n",
            "SSH (2161, 169)\n",
            "p (2161, 169)\n",
            "Round : 1\n",
            " SSH_patches shape (12, 2161, 169)\n",
            " SST_patches shape (12, 2161, 169)\n",
            " U_patches shape (12, 2161, 169)\n",
            " V_patches shape (12, 2161, 169)\n",
            "SSH (2161, 169)\n",
            "p (2161, 169)\n",
            "Round : 2\n",
            " SSH_patches shape (12, 2161, 169)\n",
            " SST_patches shape (12, 2161, 169)\n",
            " U_patches shape (12, 2161, 169)\n",
            " V_patches shape (12, 2161, 169)\n",
            "SSH (2161, 169)\n",
            "p (2161, 169)\n",
            "Round : 3\n",
            " SSH_patches shape (12, 2161, 169)\n",
            " SST_patches shape (12, 2161, 169)\n",
            " U_patches shape (12, 2161, 169)\n",
            " V_patches shape (12, 2161, 169)\n",
            "SSH (2161, 169)\n",
            "p (2161, 169)\n",
            "Round : 4\n",
            " SSH_patches shape (12, 2161, 169)\n",
            " SST_patches shape (12, 2161, 169)\n",
            " U_patches shape (12, 2161, 169)\n",
            " V_patches shape (12, 2161, 169)\n",
            "SSH (2161, 169)\n",
            "p (2161, 169)\n",
            "Round : 5\n",
            " SSH_patches shape (12, 2161, 169)\n",
            " SST_patches shape (12, 2161, 169)\n",
            " U_patches shape (12, 2161, 169)\n",
            " V_patches shape (12, 2161, 169)\n",
            "SSH (2161, 169)\n",
            "p (2161, 169)\n",
            "Round : 6\n",
            " SSH_patches shape (12, 2161, 169)\n",
            " SST_patches shape (12, 2161, 169)\n",
            " U_patches shape (12, 2161, 169)\n",
            " V_patches shape (12, 2161, 169)\n",
            "SSH (2161, 169)\n",
            "p (2161, 169)\n",
            "Round : 7\n",
            " SSH_patches shape (12, 2161, 169)\n",
            " SST_patches shape (12, 2161, 169)\n",
            " U_patches shape (12, 2161, 169)\n",
            " V_patches shape (12, 2161, 169)\n",
            "SSH (2161, 169)\n",
            "p (2161, 169)\n",
            "Round : 8\n",
            " SSH_patches shape (12, 2161, 169)\n",
            " SST_patches shape (12, 2161, 169)\n",
            " U_patches shape (12, 2161, 169)\n",
            " V_patches shape (12, 2161, 169)\n",
            "SSH (2161, 169)\n",
            "p (2161, 169)\n",
            "Round : 9\n",
            " SSH_patches shape (12, 2161, 169)\n",
            " SST_patches shape (12, 2161, 169)\n",
            " U_patches shape (12, 2161, 169)\n",
            " V_patches shape (12, 2161, 169)\n",
            "SSH (2161, 169)\n",
            "p (2161, 169)\n",
            "Round : 10\n",
            " SSH_patches shape (12, 2161, 169)\n",
            " SST_patches shape (12, 2161, 169)\n",
            " U_patches shape (12, 2161, 169)\n",
            " V_patches shape (12, 2161, 169)\n",
            "SSH (2161, 169)\n",
            "p (2161, 169)\n",
            "Round : 11\n",
            " SSH_patches shape (12, 2161, 169)\n",
            " SST_patches shape (12, 2161, 169)\n",
            " U_patches shape (12, 2161, 169)\n",
            " V_patches shape (12, 2161, 169)\n",
            "SSH (2161, 169)\n",
            "p (2161, 169)\n",
            "Patches shape: (12, 2161, 169)\n",
            "Patches shape: (12, 2161, 169)\n",
            "Patches shape: (12, 2161, 169)\n",
            "Patches shape: (12, 2161, 169)\n"
          ],
          "name": "stdout"
        }
      ]
    },
    {
      "cell_type": "markdown",
      "metadata": {
        "id": "F2HSv8MNJXB7",
        "colab_type": "text"
      },
      "source": [
        "#Reshape the patches\n"
      ]
    },
    {
      "cell_type": "markdown",
      "metadata": {
        "colab_type": "text",
        "id": "Slrg7AnEuCwt"
      },
      "source": [
        "## II - Training of the compMLP"
      ]
    },
    {
      "cell_type": "markdown",
      "metadata": {
        "id": "bSLtb6F-1Lmb",
        "colab_type": "text"
      },
      "source": [
        "#Description of the model"
      ]
    },
    {
      "cell_type": "code",
      "metadata": {
        "id": "pdy7YCfpzMxI",
        "colab_type": "code",
        "colab": {}
      },
      "source": [
        "class comp_MLP :\n",
        "  def __init__(self, number_mode, X_train, y_train, X_test, y_test):\n",
        "    self.number_mode = number_mode\n",
        "    self.X_train = X_train\n",
        "    self.y_train = y_train\n",
        "    self.X_test = X_test\n",
        "    self.y_test = y_test\n",
        "\n",
        "  def create_model(self):\n",
        "    #for i in range(1, self.number_mode)\n",
        "    model = Sequential()\n",
        "    #get number of columns in training data\n",
        "    input_shape = self.X_train[0].shape\n",
        "\n",
        "    #compile model using mse as a measure of model performance\n",
        "    model.compile(optimizer='adam', loss='mean_squared_error')\n",
        "\n",
        " # Define the tensors for the two input images\n",
        "    input = Input(input_shape)\n",
        "    \n",
        "    model.add(Dense(75, input_shape=input_shape, activation='relu'))\n",
        "    model.add(Dense(30, activation='relu'))\n",
        "    model.add(Dense(3, activation='softmax'))\n",
        "    \n",
        "    # Generate the encodings (feature vectors) for the two images\n",
        "    mlp_out_1 = model(input)\n",
        "    mlp_out_2 = model(input)\n",
        "    mlp_out_3 = model(input)\n",
        "    mlp_out_4 = model(input)\n",
        "\n",
        "\n",
        "    wiw = tf.convert_to_tensor(self.X_train[1], dtype=tf.float32)\n",
        "    # Add a customized layer to compute the absolute difference between the encodings\n",
        "    w_layer = Lambda(lambda tensors: tensors[0] - tensors[1])\n",
        "    W1 = w_layer([wiw, mlp_out_1])\n",
        "    W2 = w_layer([wiw, mlp_out_2])\n",
        "    W3 = w_layer([wiw, mlp_out_3])\n",
        "    W4 = w_layer([wiw, mlp_out_4])\n",
        "    \n",
        "\n",
        "    #NEED TO REPLICATE THE WEIGHT FROM Kx1 TO Kx3\n",
        "    partial_pred_layer =  Lambda(lambda tensors: tensors[0] * tensors[1])\n",
        "    partial_pred_1 = partial_pred_layer([mlp_out_1, W1])\n",
        "    partial_pred_2 = partial_pred_layer([mlp_out_2, W2])\n",
        "    partial_pred_3 = partial_pred_layer([mlp_out_3, W3])\n",
        "    partial_pred_4 = partial_pred_layer([mlp_out_4, W4])\n",
        "\n",
        "\n",
        "    Y_pred_layer =  Lambda(lambda tensors: tensors[0] + tensors[1] + tensors[2] + tensors[3])\n",
        "    Y_pred = Y_pred_layer([partial_pred_1, partial_pred_2, partial_pred_3, partial_pred_4 ])\n",
        "   \n",
        "    # Connect the inputs with the outputs\n",
        "    comp_mlp = Model(inputs=[input_1,input_2,input_3,input_4],outputs=prediction)\n",
        "    \n",
        "    # return the model\n",
        "    return comp_mlp\n",
        "\n",
        "    def train(self):\n",
        "          \n",
        "      #set early stopping monitor so the model stops training when it won't improve anymore\n",
        "      early_stopping_monitor = EarlyStopping(patience=3)\n",
        "      #train model\n",
        "      model.fit(self.X_train, self.y_train, epochs=10, batch_size=250, verbose=1, validation_split=0.2, callbacks=[early_stopping_monitor])\n",
        "\n",
        "    def predict(self):\n",
        "      test_y_predictions = model.predict(self.X_test)"
      ],
      "execution_count": 0,
      "outputs": []
    },
    {
      "cell_type": "code",
      "metadata": {
        "id": "95W0j72Yx9Iv",
        "colab_type": "code",
        "outputId": "8e8c5b22-0aed-4da9-9d7e-c5bd6a6ee366",
        "colab": {
          "base_uri": "https://localhost:8080/",
          "height": 476
        }
      },
      "source": [
        "X = np.stack((SST_patches,SSH_patches, U_patches, V_patches))\n",
        "print(X[0].shape)\n",
        "\n",
        "y = np.vstack((SSH_patches, U_patches, V_patches)) \n",
        "# Split the data into training/testing sets\n",
        "X_train = X[:,:9]\n",
        "X_test = X[:,3:]\n",
        "print(X_train.shape)\n",
        "# Split the targets into training/testing sets\n",
        "y_train = y[:9]\n",
        "y_test = y[3:]\n",
        "\n",
        "input_shape = (X_train.shape[1],)\n",
        "print(input_shape)\n",
        "\n",
        "#create model\n",
        "modelCMLP = comp_MLP(4,X_train,y_train, X_test, y_test)\n",
        "\n",
        "modelCMLP.create_model()\n",
        "\n",
        "modelCMLP.train\n",
        "\n",
        "modelCMLP.predict()\n",
        "\n",
        "\"\"\"\n",
        "model = Sequential()\n",
        "\n",
        "model.add(Dense(75, input_shape=input_shape, activation='relu'))\n",
        "model.add(Dropout(0.4))\n",
        "model.add(Dense(30, activation='relu'))\n",
        "model.add(Dropout(0.2))\n",
        "model.add(Dense(3))\n",
        "\n",
        "model.compile(optimizer='adam',\n",
        "              loss='mean_squared_error',\n",
        "              metrics=['mse'])\n",
        "history = model.fit(X_train, y_train, epochs=10, batch_size=320)\"\"\""
      ],
      "execution_count": 94,
      "outputs": [
        {
          "output_type": "stream",
          "text": [
            "(12, 2161, 169)\n",
            "(4, 9, 2161, 169)\n",
            "(9,)\n"
          ],
          "name": "stdout"
        },
        {
          "output_type": "error",
          "ename": "ValueError",
          "evalue": "ignored",
          "traceback": [
            "\u001b[0;31m---------------------------------------------------------------------------\u001b[0m",
            "\u001b[0;31mInvalidArgumentError\u001b[0m                      Traceback (most recent call last)",
            "\u001b[0;32m/usr/local/lib/python3.6/dist-packages/tensorflow_core/python/framework/ops.py\u001b[0m in \u001b[0;36m_create_c_op\u001b[0;34m(graph, node_def, inputs, control_inputs)\u001b[0m\n\u001b[1;32m   1606\u001b[0m   \u001b[0;32mtry\u001b[0m\u001b[0;34m:\u001b[0m\u001b[0;34m\u001b[0m\u001b[0;34m\u001b[0m\u001b[0m\n\u001b[0;32m-> 1607\u001b[0;31m     \u001b[0mc_op\u001b[0m \u001b[0;34m=\u001b[0m \u001b[0mc_api\u001b[0m\u001b[0;34m.\u001b[0m\u001b[0mTF_FinishOperation\u001b[0m\u001b[0;34m(\u001b[0m\u001b[0mop_desc\u001b[0m\u001b[0;34m)\u001b[0m\u001b[0;34m\u001b[0m\u001b[0;34m\u001b[0m\u001b[0m\n\u001b[0m\u001b[1;32m   1608\u001b[0m   \u001b[0;32mexcept\u001b[0m \u001b[0merrors\u001b[0m\u001b[0;34m.\u001b[0m\u001b[0mInvalidArgumentError\u001b[0m \u001b[0;32mas\u001b[0m \u001b[0me\u001b[0m\u001b[0;34m:\u001b[0m\u001b[0;34m\u001b[0m\u001b[0;34m\u001b[0m\u001b[0m\n",
            "\u001b[0;31mInvalidArgumentError\u001b[0m: Dimensions must be equal, but are 169 and 3 for 'lambda_20/sub' (op: 'Sub') with input shapes: [9,2161,169], [?,9,2161,3].",
            "\nDuring handling of the above exception, another exception occurred:\n",
            "\u001b[0;31mValueError\u001b[0m                                Traceback (most recent call last)",
            "\u001b[0;32m<ipython-input-94-2e40132277f1>\u001b[0m in \u001b[0;36m<module>\u001b[0;34m()\u001b[0m\n\u001b[1;32m     16\u001b[0m \u001b[0;31m#create model\u001b[0m\u001b[0;34m\u001b[0m\u001b[0;34m\u001b[0m\u001b[0;34m\u001b[0m\u001b[0m\n\u001b[1;32m     17\u001b[0m \u001b[0mmodelCMLP\u001b[0m \u001b[0;34m=\u001b[0m \u001b[0mcomp_MLP\u001b[0m\u001b[0;34m(\u001b[0m\u001b[0;36m4\u001b[0m\u001b[0;34m,\u001b[0m\u001b[0mX_train\u001b[0m\u001b[0;34m,\u001b[0m\u001b[0my_train\u001b[0m\u001b[0;34m,\u001b[0m \u001b[0mX_test\u001b[0m\u001b[0;34m,\u001b[0m \u001b[0my_test\u001b[0m\u001b[0;34m)\u001b[0m\u001b[0;34m\u001b[0m\u001b[0;34m\u001b[0m\u001b[0m\n\u001b[0;32m---> 18\u001b[0;31m \u001b[0mmodelCMLP\u001b[0m\u001b[0;34m.\u001b[0m\u001b[0mcreate_model\u001b[0m\u001b[0;34m(\u001b[0m\u001b[0;34m)\u001b[0m\u001b[0;34m\u001b[0m\u001b[0;34m\u001b[0m\u001b[0m\n\u001b[0m\u001b[1;32m     19\u001b[0m \u001b[0mmodelCMLP\u001b[0m\u001b[0;34m.\u001b[0m\u001b[0mtrain\u001b[0m\u001b[0;34m\u001b[0m\u001b[0;34m\u001b[0m\u001b[0m\n\u001b[1;32m     20\u001b[0m \u001b[0;34m\u001b[0m\u001b[0m\n",
            "\u001b[0;32m<ipython-input-91-31421d8756d7>\u001b[0m in \u001b[0;36mcreate_model\u001b[0;34m(self)\u001b[0m\n\u001b[1;32m     33\u001b[0m     \u001b[0;31m# Add a customized layer to compute the absolute difference between the encodings\u001b[0m\u001b[0;34m\u001b[0m\u001b[0;34m\u001b[0m\u001b[0;34m\u001b[0m\u001b[0m\n\u001b[1;32m     34\u001b[0m     \u001b[0mw_layer\u001b[0m \u001b[0;34m=\u001b[0m \u001b[0mLambda\u001b[0m\u001b[0;34m(\u001b[0m\u001b[0;32mlambda\u001b[0m \u001b[0mtensors\u001b[0m\u001b[0;34m:\u001b[0m \u001b[0mtensors\u001b[0m\u001b[0;34m[\u001b[0m\u001b[0;36m0\u001b[0m\u001b[0;34m]\u001b[0m \u001b[0;34m-\u001b[0m \u001b[0mtensors\u001b[0m\u001b[0;34m[\u001b[0m\u001b[0;36m1\u001b[0m\u001b[0;34m]\u001b[0m\u001b[0;34m)\u001b[0m\u001b[0;34m\u001b[0m\u001b[0;34m\u001b[0m\u001b[0m\n\u001b[0;32m---> 35\u001b[0;31m     \u001b[0mW1\u001b[0m \u001b[0;34m=\u001b[0m \u001b[0mw_layer\u001b[0m\u001b[0;34m(\u001b[0m\u001b[0;34m[\u001b[0m\u001b[0mwiw\u001b[0m\u001b[0;34m,\u001b[0m \u001b[0mmlp_out_1\u001b[0m\u001b[0;34m]\u001b[0m\u001b[0;34m)\u001b[0m\u001b[0;34m\u001b[0m\u001b[0;34m\u001b[0m\u001b[0m\n\u001b[0m\u001b[1;32m     36\u001b[0m     \u001b[0mW2\u001b[0m \u001b[0;34m=\u001b[0m \u001b[0mw_layer\u001b[0m\u001b[0;34m(\u001b[0m\u001b[0;34m[\u001b[0m\u001b[0mwiw\u001b[0m\u001b[0;34m,\u001b[0m \u001b[0mmlp_out_2\u001b[0m\u001b[0;34m]\u001b[0m\u001b[0;34m)\u001b[0m\u001b[0;34m\u001b[0m\u001b[0;34m\u001b[0m\u001b[0m\n\u001b[1;32m     37\u001b[0m     \u001b[0mW3\u001b[0m \u001b[0;34m=\u001b[0m \u001b[0mw_layer\u001b[0m\u001b[0;34m(\u001b[0m\u001b[0;34m[\u001b[0m\u001b[0mwiw\u001b[0m\u001b[0;34m,\u001b[0m \u001b[0mmlp_out_3\u001b[0m\u001b[0;34m]\u001b[0m\u001b[0;34m)\u001b[0m\u001b[0;34m\u001b[0m\u001b[0;34m\u001b[0m\u001b[0m\n",
            "\u001b[0;32m/usr/local/lib/python3.6/dist-packages/keras/engine/base_layer.py\u001b[0m in \u001b[0;36m__call__\u001b[0;34m(self, inputs, **kwargs)\u001b[0m\n\u001b[1;32m    449\u001b[0m             \u001b[0;31m# Actually call the layer,\u001b[0m\u001b[0;34m\u001b[0m\u001b[0;34m\u001b[0m\u001b[0;34m\u001b[0m\u001b[0m\n\u001b[1;32m    450\u001b[0m             \u001b[0;31m# collecting output(s), mask(s), and shape(s).\u001b[0m\u001b[0;34m\u001b[0m\u001b[0;34m\u001b[0m\u001b[0;34m\u001b[0m\u001b[0m\n\u001b[0;32m--> 451\u001b[0;31m             \u001b[0moutput\u001b[0m \u001b[0;34m=\u001b[0m \u001b[0mself\u001b[0m\u001b[0;34m.\u001b[0m\u001b[0mcall\u001b[0m\u001b[0;34m(\u001b[0m\u001b[0minputs\u001b[0m\u001b[0;34m,\u001b[0m \u001b[0;34m**\u001b[0m\u001b[0mkwargs\u001b[0m\u001b[0;34m)\u001b[0m\u001b[0;34m\u001b[0m\u001b[0;34m\u001b[0m\u001b[0m\n\u001b[0m\u001b[1;32m    452\u001b[0m             \u001b[0moutput_mask\u001b[0m \u001b[0;34m=\u001b[0m \u001b[0mself\u001b[0m\u001b[0;34m.\u001b[0m\u001b[0mcompute_mask\u001b[0m\u001b[0;34m(\u001b[0m\u001b[0minputs\u001b[0m\u001b[0;34m,\u001b[0m \u001b[0mprevious_mask\u001b[0m\u001b[0;34m)\u001b[0m\u001b[0;34m\u001b[0m\u001b[0;34m\u001b[0m\u001b[0m\n\u001b[1;32m    453\u001b[0m \u001b[0;34m\u001b[0m\u001b[0m\n",
            "\u001b[0;32m/usr/local/lib/python3.6/dist-packages/keras/layers/core.py\u001b[0m in \u001b[0;36mcall\u001b[0;34m(self, inputs, mask)\u001b[0m\n\u001b[1;32m    714\u001b[0m         \u001b[0;32melse\u001b[0m\u001b[0;34m:\u001b[0m\u001b[0;34m\u001b[0m\u001b[0;34m\u001b[0m\u001b[0m\n\u001b[1;32m    715\u001b[0m             \u001b[0mself\u001b[0m\u001b[0;34m.\u001b[0m\u001b[0m_input_dtypes\u001b[0m \u001b[0;34m=\u001b[0m \u001b[0mK\u001b[0m\u001b[0;34m.\u001b[0m\u001b[0mdtype\u001b[0m\u001b[0;34m(\u001b[0m\u001b[0minputs\u001b[0m\u001b[0;34m)\u001b[0m\u001b[0;34m\u001b[0m\u001b[0;34m\u001b[0m\u001b[0m\n\u001b[0;32m--> 716\u001b[0;31m         \u001b[0;32mreturn\u001b[0m \u001b[0mself\u001b[0m\u001b[0;34m.\u001b[0m\u001b[0mfunction\u001b[0m\u001b[0;34m(\u001b[0m\u001b[0minputs\u001b[0m\u001b[0;34m,\u001b[0m \u001b[0;34m**\u001b[0m\u001b[0marguments\u001b[0m\u001b[0;34m)\u001b[0m\u001b[0;34m\u001b[0m\u001b[0;34m\u001b[0m\u001b[0m\n\u001b[0m\u001b[1;32m    717\u001b[0m \u001b[0;34m\u001b[0m\u001b[0m\n\u001b[1;32m    718\u001b[0m     \u001b[0;32mdef\u001b[0m \u001b[0mcompute_mask\u001b[0m\u001b[0;34m(\u001b[0m\u001b[0mself\u001b[0m\u001b[0;34m,\u001b[0m \u001b[0minputs\u001b[0m\u001b[0;34m,\u001b[0m \u001b[0mmask\u001b[0m\u001b[0;34m=\u001b[0m\u001b[0;32mNone\u001b[0m\u001b[0;34m)\u001b[0m\u001b[0;34m:\u001b[0m\u001b[0;34m\u001b[0m\u001b[0;34m\u001b[0m\u001b[0m\n",
            "\u001b[0;32m<ipython-input-91-31421d8756d7>\u001b[0m in \u001b[0;36m<lambda>\u001b[0;34m(tensors)\u001b[0m\n\u001b[1;32m     32\u001b[0m     \u001b[0mwiw\u001b[0m \u001b[0;34m=\u001b[0m \u001b[0mtf\u001b[0m\u001b[0;34m.\u001b[0m\u001b[0mconvert_to_tensor\u001b[0m\u001b[0;34m(\u001b[0m\u001b[0mself\u001b[0m\u001b[0;34m.\u001b[0m\u001b[0mX_train\u001b[0m\u001b[0;34m[\u001b[0m\u001b[0;36m1\u001b[0m\u001b[0;34m]\u001b[0m\u001b[0;34m,\u001b[0m \u001b[0mdtype\u001b[0m\u001b[0;34m=\u001b[0m\u001b[0mtf\u001b[0m\u001b[0;34m.\u001b[0m\u001b[0mfloat32\u001b[0m\u001b[0;34m)\u001b[0m\u001b[0;34m\u001b[0m\u001b[0;34m\u001b[0m\u001b[0m\n\u001b[1;32m     33\u001b[0m     \u001b[0;31m# Add a customized layer to compute the absolute difference between the encodings\u001b[0m\u001b[0;34m\u001b[0m\u001b[0;34m\u001b[0m\u001b[0;34m\u001b[0m\u001b[0m\n\u001b[0;32m---> 34\u001b[0;31m     \u001b[0mw_layer\u001b[0m \u001b[0;34m=\u001b[0m \u001b[0mLambda\u001b[0m\u001b[0;34m(\u001b[0m\u001b[0;32mlambda\u001b[0m \u001b[0mtensors\u001b[0m\u001b[0;34m:\u001b[0m \u001b[0mtensors\u001b[0m\u001b[0;34m[\u001b[0m\u001b[0;36m0\u001b[0m\u001b[0;34m]\u001b[0m \u001b[0;34m-\u001b[0m \u001b[0mtensors\u001b[0m\u001b[0;34m[\u001b[0m\u001b[0;36m1\u001b[0m\u001b[0;34m]\u001b[0m\u001b[0;34m)\u001b[0m\u001b[0;34m\u001b[0m\u001b[0;34m\u001b[0m\u001b[0m\n\u001b[0m\u001b[1;32m     35\u001b[0m     \u001b[0mW1\u001b[0m \u001b[0;34m=\u001b[0m \u001b[0mw_layer\u001b[0m\u001b[0;34m(\u001b[0m\u001b[0;34m[\u001b[0m\u001b[0mwiw\u001b[0m\u001b[0;34m,\u001b[0m \u001b[0mmlp_out_1\u001b[0m\u001b[0;34m]\u001b[0m\u001b[0;34m)\u001b[0m\u001b[0;34m\u001b[0m\u001b[0;34m\u001b[0m\u001b[0m\n\u001b[1;32m     36\u001b[0m     \u001b[0mW2\u001b[0m \u001b[0;34m=\u001b[0m \u001b[0mw_layer\u001b[0m\u001b[0;34m(\u001b[0m\u001b[0;34m[\u001b[0m\u001b[0mwiw\u001b[0m\u001b[0;34m,\u001b[0m \u001b[0mmlp_out_2\u001b[0m\u001b[0;34m]\u001b[0m\u001b[0;34m)\u001b[0m\u001b[0;34m\u001b[0m\u001b[0;34m\u001b[0m\u001b[0m\n",
            "\u001b[0;32m/usr/local/lib/python3.6/dist-packages/tensorflow_core/python/ops/math_ops.py\u001b[0m in \u001b[0;36mbinary_op_wrapper\u001b[0;34m(x, y)\u001b[0m\n\u001b[1;32m    897\u001b[0m     \u001b[0;32mwith\u001b[0m \u001b[0mops\u001b[0m\u001b[0;34m.\u001b[0m\u001b[0mname_scope\u001b[0m\u001b[0;34m(\u001b[0m\u001b[0;32mNone\u001b[0m\u001b[0;34m,\u001b[0m \u001b[0mop_name\u001b[0m\u001b[0;34m,\u001b[0m \u001b[0;34m[\u001b[0m\u001b[0mx\u001b[0m\u001b[0;34m,\u001b[0m \u001b[0my\u001b[0m\u001b[0;34m]\u001b[0m\u001b[0;34m)\u001b[0m \u001b[0;32mas\u001b[0m \u001b[0mname\u001b[0m\u001b[0;34m:\u001b[0m\u001b[0;34m\u001b[0m\u001b[0;34m\u001b[0m\u001b[0m\n\u001b[1;32m    898\u001b[0m       \u001b[0;32mif\u001b[0m \u001b[0misinstance\u001b[0m\u001b[0;34m(\u001b[0m\u001b[0mx\u001b[0m\u001b[0;34m,\u001b[0m \u001b[0mops\u001b[0m\u001b[0;34m.\u001b[0m\u001b[0mTensor\u001b[0m\u001b[0;34m)\u001b[0m \u001b[0;32mand\u001b[0m \u001b[0misinstance\u001b[0m\u001b[0;34m(\u001b[0m\u001b[0my\u001b[0m\u001b[0;34m,\u001b[0m \u001b[0mops\u001b[0m\u001b[0;34m.\u001b[0m\u001b[0mTensor\u001b[0m\u001b[0;34m)\u001b[0m\u001b[0;34m:\u001b[0m\u001b[0;34m\u001b[0m\u001b[0;34m\u001b[0m\u001b[0m\n\u001b[0;32m--> 899\u001b[0;31m         \u001b[0;32mreturn\u001b[0m \u001b[0mfunc\u001b[0m\u001b[0;34m(\u001b[0m\u001b[0mx\u001b[0m\u001b[0;34m,\u001b[0m \u001b[0my\u001b[0m\u001b[0;34m,\u001b[0m \u001b[0mname\u001b[0m\u001b[0;34m=\u001b[0m\u001b[0mname\u001b[0m\u001b[0;34m)\u001b[0m\u001b[0;34m\u001b[0m\u001b[0;34m\u001b[0m\u001b[0m\n\u001b[0m\u001b[1;32m    900\u001b[0m       \u001b[0;32melif\u001b[0m \u001b[0;32mnot\u001b[0m \u001b[0misinstance\u001b[0m\u001b[0;34m(\u001b[0m\u001b[0my\u001b[0m\u001b[0;34m,\u001b[0m \u001b[0msparse_tensor\u001b[0m\u001b[0;34m.\u001b[0m\u001b[0mSparseTensor\u001b[0m\u001b[0;34m)\u001b[0m\u001b[0;34m:\u001b[0m\u001b[0;34m\u001b[0m\u001b[0;34m\u001b[0m\u001b[0m\n\u001b[1;32m    901\u001b[0m         \u001b[0;32mtry\u001b[0m\u001b[0;34m:\u001b[0m\u001b[0;34m\u001b[0m\u001b[0;34m\u001b[0m\u001b[0m\n",
            "\u001b[0;32m/usr/local/lib/python3.6/dist-packages/tensorflow_core/python/ops/gen_math_ops.py\u001b[0m in \u001b[0;36msub\u001b[0;34m(x, y, name)\u001b[0m\n\u001b[1;32m  11084\u001b[0m   \u001b[0;31m# Add nodes to the TensorFlow graph.\u001b[0m\u001b[0;34m\u001b[0m\u001b[0;34m\u001b[0m\u001b[0;34m\u001b[0m\u001b[0m\n\u001b[1;32m  11085\u001b[0m   _, _, _op = _op_def_lib._apply_op_helper(\n\u001b[0;32m> 11086\u001b[0;31m         \"Sub\", x=x, y=y, name=name)\n\u001b[0m\u001b[1;32m  11087\u001b[0m   \u001b[0m_result\u001b[0m \u001b[0;34m=\u001b[0m \u001b[0m_op\u001b[0m\u001b[0;34m.\u001b[0m\u001b[0moutputs\u001b[0m\u001b[0;34m[\u001b[0m\u001b[0;34m:\u001b[0m\u001b[0;34m]\u001b[0m\u001b[0;34m\u001b[0m\u001b[0;34m\u001b[0m\u001b[0m\n\u001b[1;32m  11088\u001b[0m   \u001b[0m_inputs_flat\u001b[0m \u001b[0;34m=\u001b[0m \u001b[0m_op\u001b[0m\u001b[0;34m.\u001b[0m\u001b[0minputs\u001b[0m\u001b[0;34m\u001b[0m\u001b[0;34m\u001b[0m\u001b[0m\n",
            "\u001b[0;32m/usr/local/lib/python3.6/dist-packages/tensorflow_core/python/framework/op_def_library.py\u001b[0m in \u001b[0;36m_apply_op_helper\u001b[0;34m(self, op_type_name, name, **keywords)\u001b[0m\n\u001b[1;32m    792\u001b[0m         op = g.create_op(op_type_name, inputs, dtypes=None, name=scope,\n\u001b[1;32m    793\u001b[0m                          \u001b[0minput_types\u001b[0m\u001b[0;34m=\u001b[0m\u001b[0minput_types\u001b[0m\u001b[0;34m,\u001b[0m \u001b[0mattrs\u001b[0m\u001b[0;34m=\u001b[0m\u001b[0mattr_protos\u001b[0m\u001b[0;34m,\u001b[0m\u001b[0;34m\u001b[0m\u001b[0;34m\u001b[0m\u001b[0m\n\u001b[0;32m--> 794\u001b[0;31m                          op_def=op_def)\n\u001b[0m\u001b[1;32m    795\u001b[0m \u001b[0;34m\u001b[0m\u001b[0m\n\u001b[1;32m    796\u001b[0m       \u001b[0;31m# Conditionally invoke tfdbg v2's op callback(s).\u001b[0m\u001b[0;34m\u001b[0m\u001b[0;34m\u001b[0m\u001b[0;34m\u001b[0m\u001b[0m\n",
            "\u001b[0;32m/usr/local/lib/python3.6/dist-packages/tensorflow_core/python/util/deprecation.py\u001b[0m in \u001b[0;36mnew_func\u001b[0;34m(*args, **kwargs)\u001b[0m\n\u001b[1;32m    505\u001b[0m                 \u001b[0;34m'in a future version'\u001b[0m \u001b[0;32mif\u001b[0m \u001b[0mdate\u001b[0m \u001b[0;32mis\u001b[0m \u001b[0;32mNone\u001b[0m \u001b[0;32melse\u001b[0m \u001b[0;34m(\u001b[0m\u001b[0;34m'after %s'\u001b[0m \u001b[0;34m%\u001b[0m \u001b[0mdate\u001b[0m\u001b[0;34m)\u001b[0m\u001b[0;34m,\u001b[0m\u001b[0;34m\u001b[0m\u001b[0;34m\u001b[0m\u001b[0m\n\u001b[1;32m    506\u001b[0m                 instructions)\n\u001b[0;32m--> 507\u001b[0;31m       \u001b[0;32mreturn\u001b[0m \u001b[0mfunc\u001b[0m\u001b[0;34m(\u001b[0m\u001b[0;34m*\u001b[0m\u001b[0margs\u001b[0m\u001b[0;34m,\u001b[0m \u001b[0;34m**\u001b[0m\u001b[0mkwargs\u001b[0m\u001b[0;34m)\u001b[0m\u001b[0;34m\u001b[0m\u001b[0;34m\u001b[0m\u001b[0m\n\u001b[0m\u001b[1;32m    508\u001b[0m \u001b[0;34m\u001b[0m\u001b[0m\n\u001b[1;32m    509\u001b[0m     doc = _add_deprecated_arg_notice_to_docstring(\n",
            "\u001b[0;32m/usr/local/lib/python3.6/dist-packages/tensorflow_core/python/framework/ops.py\u001b[0m in \u001b[0;36mcreate_op\u001b[0;34m(***failed resolving arguments***)\u001b[0m\n\u001b[1;32m   3355\u001b[0m         \u001b[0;32mraise\u001b[0m \u001b[0mTypeError\u001b[0m\u001b[0;34m(\u001b[0m\u001b[0;34m\"Input #%d is not a tensor: %s\"\u001b[0m \u001b[0;34m%\u001b[0m \u001b[0;34m(\u001b[0m\u001b[0midx\u001b[0m\u001b[0;34m,\u001b[0m \u001b[0ma\u001b[0m\u001b[0;34m)\u001b[0m\u001b[0;34m)\u001b[0m\u001b[0;34m\u001b[0m\u001b[0;34m\u001b[0m\u001b[0m\n\u001b[1;32m   3356\u001b[0m     return self._create_op_internal(op_type, inputs, dtypes, input_types, name,\n\u001b[0;32m-> 3357\u001b[0;31m                                     attrs, op_def, compute_device)\n\u001b[0m\u001b[1;32m   3358\u001b[0m \u001b[0;34m\u001b[0m\u001b[0m\n\u001b[1;32m   3359\u001b[0m   def _create_op_internal(\n",
            "\u001b[0;32m/usr/local/lib/python3.6/dist-packages/tensorflow_core/python/framework/ops.py\u001b[0m in \u001b[0;36m_create_op_internal\u001b[0;34m(self, op_type, inputs, dtypes, input_types, name, attrs, op_def, compute_device)\u001b[0m\n\u001b[1;32m   3424\u001b[0m           \u001b[0minput_types\u001b[0m\u001b[0;34m=\u001b[0m\u001b[0minput_types\u001b[0m\u001b[0;34m,\u001b[0m\u001b[0;34m\u001b[0m\u001b[0;34m\u001b[0m\u001b[0m\n\u001b[1;32m   3425\u001b[0m           \u001b[0moriginal_op\u001b[0m\u001b[0;34m=\u001b[0m\u001b[0mself\u001b[0m\u001b[0;34m.\u001b[0m\u001b[0m_default_original_op\u001b[0m\u001b[0;34m,\u001b[0m\u001b[0;34m\u001b[0m\u001b[0;34m\u001b[0m\u001b[0m\n\u001b[0;32m-> 3426\u001b[0;31m           op_def=op_def)\n\u001b[0m\u001b[1;32m   3427\u001b[0m       \u001b[0mself\u001b[0m\u001b[0;34m.\u001b[0m\u001b[0m_create_op_helper\u001b[0m\u001b[0;34m(\u001b[0m\u001b[0mret\u001b[0m\u001b[0;34m,\u001b[0m \u001b[0mcompute_device\u001b[0m\u001b[0;34m=\u001b[0m\u001b[0mcompute_device\u001b[0m\u001b[0;34m)\u001b[0m\u001b[0;34m\u001b[0m\u001b[0;34m\u001b[0m\u001b[0m\n\u001b[1;32m   3428\u001b[0m     \u001b[0;32mreturn\u001b[0m \u001b[0mret\u001b[0m\u001b[0;34m\u001b[0m\u001b[0;34m\u001b[0m\u001b[0m\n",
            "\u001b[0;32m/usr/local/lib/python3.6/dist-packages/tensorflow_core/python/framework/ops.py\u001b[0m in \u001b[0;36m__init__\u001b[0;34m(self, node_def, g, inputs, output_types, control_inputs, input_types, original_op, op_def)\u001b[0m\n\u001b[1;32m   1768\u001b[0m           op_def, inputs, node_def.attr)\n\u001b[1;32m   1769\u001b[0m       self._c_op = _create_c_op(self._graph, node_def, grouped_inputs,\n\u001b[0;32m-> 1770\u001b[0;31m                                 control_input_ops)\n\u001b[0m\u001b[1;32m   1771\u001b[0m     \u001b[0;31m# pylint: enable=protected-access\u001b[0m\u001b[0;34m\u001b[0m\u001b[0;34m\u001b[0m\u001b[0;34m\u001b[0m\u001b[0m\n\u001b[1;32m   1772\u001b[0m \u001b[0;34m\u001b[0m\u001b[0m\n",
            "\u001b[0;32m/usr/local/lib/python3.6/dist-packages/tensorflow_core/python/framework/ops.py\u001b[0m in \u001b[0;36m_create_c_op\u001b[0;34m(graph, node_def, inputs, control_inputs)\u001b[0m\n\u001b[1;32m   1608\u001b[0m   \u001b[0;32mexcept\u001b[0m \u001b[0merrors\u001b[0m\u001b[0;34m.\u001b[0m\u001b[0mInvalidArgumentError\u001b[0m \u001b[0;32mas\u001b[0m \u001b[0me\u001b[0m\u001b[0;34m:\u001b[0m\u001b[0;34m\u001b[0m\u001b[0;34m\u001b[0m\u001b[0m\n\u001b[1;32m   1609\u001b[0m     \u001b[0;31m# Convert to ValueError for backwards compatibility.\u001b[0m\u001b[0;34m\u001b[0m\u001b[0;34m\u001b[0m\u001b[0;34m\u001b[0m\u001b[0m\n\u001b[0;32m-> 1610\u001b[0;31m     \u001b[0;32mraise\u001b[0m \u001b[0mValueError\u001b[0m\u001b[0;34m(\u001b[0m\u001b[0mstr\u001b[0m\u001b[0;34m(\u001b[0m\u001b[0me\u001b[0m\u001b[0;34m)\u001b[0m\u001b[0;34m)\u001b[0m\u001b[0;34m\u001b[0m\u001b[0;34m\u001b[0m\u001b[0m\n\u001b[0m\u001b[1;32m   1611\u001b[0m \u001b[0;34m\u001b[0m\u001b[0m\n\u001b[1;32m   1612\u001b[0m   \u001b[0;32mreturn\u001b[0m \u001b[0mc_op\u001b[0m\u001b[0;34m\u001b[0m\u001b[0;34m\u001b[0m\u001b[0m\n",
            "\u001b[0;31mValueError\u001b[0m: Dimensions must be equal, but are 169 and 3 for 'lambda_20/sub' (op: 'Sub') with input shapes: [9,2161,169], [?,9,2161,3]."
          ]
        }
      ]
    },
    {
      "cell_type": "code",
      "metadata": {
        "id": "_puKY_hkgeZJ",
        "colab_type": "code",
        "outputId": "db33bda1-cd90-4bf3-f0db-e6313d5bf63a",
        "colab": {
          "base_uri": "https://localhost:8080/",
          "height": 748
        }
      },
      "source": [
        "X_test = np.reshape(X_test,(-1,1))\n",
        "print(X_test.shape)\n",
        "\n",
        "print('Coefficients: \\n', loss_list)\n",
        "# The mean squared error\n",
        "\n",
        "\n",
        "# Plot outputs\n",
        "plt.scatter(X_test, y_test,  color='black')\n",
        "plt.plot(X_test, y_pred, color='blue', linewidth=3)\n",
        "\n",
        "plt.xticks(())\n",
        "plt.yticks(())\n",
        "\n",
        "plt.show()"
      ],
      "execution_count": 0,
      "outputs": [
        {
          "output_type": "stream",
          "text": [
            "(11814, 1)\n",
            "Coefficients: \n",
            " [tensor(0.), tensor(0.), tensor(0.)]\n"
          ],
          "name": "stdout"
        },
        {
          "output_type": "error",
          "ename": "NameError",
          "evalue": "ignored",
          "traceback": [
            "\u001b[0;31m---------------------------------------------------------------------------\u001b[0m",
            "\u001b[0;31mNameError\u001b[0m                                 Traceback (most recent call last)",
            "\u001b[0;32m<ipython-input-42-9c8af6dca7ee>\u001b[0m in \u001b[0;36m<module>\u001b[0;34m()\u001b[0m\n\u001b[1;32m      8\u001b[0m \u001b[0;31m# Plot outputs\u001b[0m\u001b[0;34m\u001b[0m\u001b[0;34m\u001b[0m\u001b[0;34m\u001b[0m\u001b[0m\n\u001b[1;32m      9\u001b[0m \u001b[0mplt\u001b[0m\u001b[0;34m.\u001b[0m\u001b[0mscatter\u001b[0m\u001b[0;34m(\u001b[0m\u001b[0mX_test\u001b[0m\u001b[0;34m,\u001b[0m \u001b[0my_test\u001b[0m\u001b[0;34m,\u001b[0m  \u001b[0mcolor\u001b[0m\u001b[0;34m=\u001b[0m\u001b[0;34m'black'\u001b[0m\u001b[0;34m)\u001b[0m\u001b[0;34m\u001b[0m\u001b[0;34m\u001b[0m\u001b[0m\n\u001b[0;32m---> 10\u001b[0;31m \u001b[0mplt\u001b[0m\u001b[0;34m.\u001b[0m\u001b[0mplot\u001b[0m\u001b[0;34m(\u001b[0m\u001b[0mX_test\u001b[0m\u001b[0;34m,\u001b[0m \u001b[0my_pred\u001b[0m\u001b[0;34m,\u001b[0m \u001b[0mcolor\u001b[0m\u001b[0;34m=\u001b[0m\u001b[0;34m'blue'\u001b[0m\u001b[0;34m,\u001b[0m \u001b[0mlinewidth\u001b[0m\u001b[0;34m=\u001b[0m\u001b[0;36m3\u001b[0m\u001b[0;34m)\u001b[0m\u001b[0;34m\u001b[0m\u001b[0;34m\u001b[0m\u001b[0m\n\u001b[0m\u001b[1;32m     11\u001b[0m \u001b[0;34m\u001b[0m\u001b[0m\n\u001b[1;32m     12\u001b[0m \u001b[0mplt\u001b[0m\u001b[0;34m.\u001b[0m\u001b[0mxticks\u001b[0m\u001b[0;34m(\u001b[0m\u001b[0;34m(\u001b[0m\u001b[0;34m)\u001b[0m\u001b[0;34m)\u001b[0m\u001b[0;34m\u001b[0m\u001b[0;34m\u001b[0m\u001b[0m\n",
            "\u001b[0;31mNameError\u001b[0m: name 'y_pred' is not defined"
          ]
        },
        {
          "output_type": "display_data",
          "data": {
            "image/png": "[encoded data removed]",
            "text/plain": [
              "<Figure size 1080x576 with 1 Axes>"
            ]
          },
          "metadata": {
            "tags": []
          }
        }
      ]
    }
  ]
}