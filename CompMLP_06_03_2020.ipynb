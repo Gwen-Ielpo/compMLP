{
  "nbformat": 4,
  "nbformat_minor": 0,
  "metadata": {
    "kernelspec": {
      "display_name": "Python 3",
      "language": "python",
      "name": "python3"
    },
    "language_info": {
      "codemirror_mode": {
        "name": "ipython",
        "version": 3
      },
      "file_extension": ".py",
      "mimetype": "text/x-python",
      "name": "python",
      "nbconvert_exporter": "python",
      "pygments_lexer": "ipython3",
      "version": "3.6.8"
    },
    "colab": {
      "name": "CompMLP_06_03_2020.ipynb",
      "provenance": [],
      "collapsed_sections": [],
      "machine_shape": "hm"
    }
  },
  "cells": [
    {
      "cell_type": "code",
      "metadata": {
        "id": "OdIQ93_ZSgmo",
        "colab_type": "code",
        "outputId": "088ab383-766d-47b6-c1fb-956ee4b7f9e2",
        "colab": {
          "base_uri": "https://localhost:8080/",
          "height": 522
        }
      },
      "source": [
        "!pip install netCDF4\n",
        "!pip install keras-rectified-adam\n",
        "import itertools\n",
        "\n",
        "from scipy import linalg\n",
        "import matplotlib.pyplot as plt \n",
        "import matplotlib as mpl\n",
        "\n",
        "%load_ext tensorboard\n",
        "\n",
        "import netCDF4\n",
        "from netCDF4 import Dataset\n",
        "import pathlib\n",
        "\n",
        "\n",
        "import numpy as np\n",
        "import pandas as pd\n",
        "import seaborn as sns\n",
        "\n",
        "import tensorflow as tf\n",
        "\n",
        "from tensorflow import keras\n",
        "from tensorflow.keras import layers\n",
        "from tensorflow.keras.models import Sequential, Model\n",
        "from tensorflow.keras.layers import Input, Dense, Lambda, Flatten, Dropout, Reshape \n",
        "from tensorflow.keras import backend as K\n",
        "from tensorflow.keras.callbacks import EarlyStopping, TensorBoard\n",
        "\n",
        "from keras_radam import RAdam\n",
        "\n",
        "import xarray as xr\n",
        "\n",
        "from datetime import date\n",
        "import datetime"
      ],
      "execution_count": 1,
      "outputs": [
        {
          "output_type": "stream",
          "text": [
            "Collecting netCDF4\n",
            "\u001b[?25l  Downloading https://files.pythonhosted.org/packages/35/4f/d49fe0c65dea4d2ebfdc602d3e3d2a45a172255c151f4497c43f6d94a5f6/netCDF4-1.5.3-cp36-cp36m-manylinux1_x86_64.whl (4.1MB)\n",
            "\u001b[K     |████████████████████████████████| 4.1MB 2.9MB/s \n",
            "\u001b[?25hRequirement already satisfied: numpy>=1.7 in /usr/local/lib/python3.6/dist-packages (from netCDF4) (1.17.5)\n",
            "Collecting cftime\n",
            "\u001b[?25l  Downloading https://files.pythonhosted.org/packages/53/35/e2fc52247871c51590d6660e684fdc619a93a29f40e3b64894bd4f8c9041/cftime-1.1.0-cp36-cp36m-manylinux1_x86_64.whl (316kB)\n",
            "\u001b[K     |████████████████████████████████| 317kB 50.9MB/s \n",
            "\u001b[?25hInstalling collected packages: cftime, netCDF4\n",
            "Successfully installed cftime-1.1.0 netCDF4-1.5.3\n",
            "Collecting keras-rectified-adam\n",
            "  Downloading https://files.pythonhosted.org/packages/21/79/9521f66b92186702cb58a214c1b923b416266381cd824e15a1733f6a5b06/keras-rectified-adam-0.17.0.tar.gz\n",
            "Requirement already satisfied: numpy in /usr/local/lib/python3.6/dist-packages (from keras-rectified-adam) (1.17.5)\n",
            "Requirement already satisfied: Keras in /usr/local/lib/python3.6/dist-packages (from keras-rectified-adam) (2.2.5)\n",
            "Requirement already satisfied: keras-applications>=1.0.8 in /usr/local/lib/python3.6/dist-packages (from Keras->keras-rectified-adam) (1.0.8)\n",
            "Requirement already satisfied: pyyaml in /usr/local/lib/python3.6/dist-packages (from Keras->keras-rectified-adam) (3.13)\n",
            "Requirement already satisfied: keras-preprocessing>=1.1.0 in /usr/local/lib/python3.6/dist-packages (from Keras->keras-rectified-adam) (1.1.0)\n",
            "Requirement already satisfied: scipy>=0.14 in /usr/local/lib/python3.6/dist-packages (from Keras->keras-rectified-adam) (1.4.1)\n",
            "Requirement already satisfied: h5py in /usr/local/lib/python3.6/dist-packages (from Keras->keras-rectified-adam) (2.8.0)\n",
            "Requirement already satisfied: six>=1.9.0 in /usr/local/lib/python3.6/dist-packages (from Keras->keras-rectified-adam) (1.12.0)\n",
            "Building wheels for collected packages: keras-rectified-adam\n",
            "  Building wheel for keras-rectified-adam (setup.py) ... \u001b[?25l\u001b[?25hdone\n",
            "  Created wheel for keras-rectified-adam: filename=keras_rectified_adam-0.17.0-cp36-none-any.whl size=14781 sha256=ed54c565029d5d715ef67cfa913cf8f3cebb07608c62302934db76e1a0e9dbc7\n",
            "  Stored in directory: /root/.cache/pip/wheels/7b/01/27/3a934e1a5644f5b93c720422a6ef97034ea78a21ba71cfb549\n",
            "Successfully built keras-rectified-adam\n",
            "Installing collected packages: keras-rectified-adam\n",
            "Successfully installed keras-rectified-adam-0.17.0\n"
          ],
          "name": "stdout"
        },
        {
          "output_type": "display_data",
          "data": {
            "text/html": [
              "<p style=\"color: red;\">\n",
              "The default version of TensorFlow in Colab will soon switch to TensorFlow 2.x.<br>\n",
              "We recommend you <a href=\"https://www.tensorflow.org/guide/migrate\" target=\"_blank\">upgrade</a> now \n",
              "or ensure your notebook will continue to use TensorFlow 1.x via the <code>%tensorflow_version 1.x</code> magic:\n",
              "<a href=\"https://colab.research.google.com/notebooks/tensorflow_version.ipynb\" target=\"_blank\">more info</a>.</p>\n"
            ],
            "text/plain": [
              "<IPython.core.display.HTML object>"
            ]
          },
          "metadata": {
            "tags": []
          }
        },
        {
          "output_type": "stream",
          "text": [
            "Using TensorFlow backend.\n"
          ],
          "name": "stderr"
        }
      ]
    },
    {
      "cell_type": "code",
      "metadata": {
        "id": "qHcChI3y1GmD",
        "colab_type": "code",
        "colab": {}
      },
      "source": [
        "from sklearn import datasets, linear_model\n",
        "from sklearn.metrics import mean_squared_error, r2_score\n",
        "from sklearn.neural_network import MLPRegressor\n",
        "from time import time\n",
        "from sklearn.model_selection import train_test_split\n",
        "from sklearn.preprocessing import QuantileTransformer\n",
        "from sklearn.pipeline import make_pipeline\n",
        "\n",
        "from sklearn.inspection import partial_dependence\n",
        "from sklearn.inspection import plot_partial_dependence\n",
        "from sklearn.experimental import enable_hist_gradient_boosting  # noqa\n",
        "from sklearn.ensemble import HistGradientBoostingRegressor\n",
        "from sklearn import mixture\n",
        "from sklearn.linear_model import LinearRegression\n",
        "from sklearn.preprocessing import MinMaxScaler"
      ],
      "execution_count": 0,
      "outputs": []
    },
    {
      "cell_type": "markdown",
      "metadata": {
        "colab_type": "text",
        "id": "gmbZQN66GJs2"
      },
      "source": [
        "# Load the dataset (2004 period)\n",
        "\n"
      ]
    },
    {
      "cell_type": "code",
      "metadata": {
        "id": "Pet7xzA2YsdB",
        "colab_type": "code",
        "outputId": "4a8963fe-fa04-4e54-b523-ab1b12e64083",
        "colab": {
          "base_uri": "https://localhost:8080/",
          "height": 122
        }
      },
      "source": [
        "from google.colab import drive\n",
        "drive.mount('/content/gdrive')"
      ],
      "execution_count": 3,
      "outputs": [
        {
          "output_type": "stream",
          "text": [
            "Go to this URL in a browser: https://accounts.google.com/o/oauth2/auth?client_id=947318989803-6bn6qk8qdgf4n4g3pfee6491hc0brc4i.apps.googleusercontent.com&redirect_uri=urn%3aietf%3awg%3aoauth%3a2.0%3aoob&response_type=code&scope=email%20https%3a%2f%2fwww.googleapis.com%2fauth%2fdocs.test%20https%3a%2f%2fwww.googleapis.com%2fauth%2fdrive%20https%3a%2f%2fwww.googleapis.com%2fauth%2fdrive.photos.readonly%20https%3a%2f%2fwww.googleapis.com%2fauth%2fpeopleapi.readonly\n",
            "\n",
            "Enter your authorization code:\n",
            "··········\n",
            "Mounted at /content/gdrive\n"
          ],
          "name": "stdout"
        }
      ]
    },
    {
      "cell_type": "code",
      "metadata": {
        "id": "i32vHtnab_jI",
        "colab_type": "code",
        "outputId": "3e677553-d0d9-4109-880c-5fd72ab552ca",
        "colab": {
          "base_uri": "https://localhost:8080/",
          "height": 663
        }
      },
      "source": [
        "ds = xr.open_dataset(\"/content/gdrive/My Drive/dataset/SST_SSH_U_V_SLA_global_2004.nc\")\n",
        "print(ds.sizes)\n",
        "ds"
      ],
      "execution_count": 105,
      "outputs": [
        {
          "output_type": "stream",
          "text": [
            "Frozen(SortedKeysDict({'lon': 1440, 'lat': 720, 'time': 366}))\n"
          ],
          "name": "stdout"
        },
        {
          "output_type": "execute_result",
          "data": {
            "text/html": [
              "<pre>&lt;xarray.Dataset&gt;\n",
              "Dimensions:  (lat: 720, lon: 1440, time: 366)\n",
              "Coordinates:\n",
              "  * lon      (lon) float32 -179.875 -179.625 -179.375 ... 179.625 179.875\n",
              "  * lat      (lat) float32 -89.875 -89.625 -89.375 ... 89.375 89.625 89.875\n",
              "  * time     (time) datetime64[ns] 2004-01-01T12:00:00 ... 1981-01-01\n",
              "Data variables:\n",
              "    SST      (time, lat, lon) float32 ...\n",
              "    SSH      (time, lon, lat) float32 ...\n",
              "    U        (time, lon, lat) float32 ...\n",
              "    V        (time, lon, lat) float32 ...\n",
              "    SLA      (time, lon, lat) float32 ...\n",
              "Attributes:\n",
              "    CDI:                    Climate Data Interface version 1.5.3 (http://code...\n",
              "    Conventions:            CF-1.0\n",
              "    history:                Mon Jul 21 17:26:58 2014: cdo merge SST_SSH_U_V_g...\n",
              "    title:                  Analysed foundation sea surface temperature, global\n",
              "    DSD_entry_id:           REMSS-L4LRfnd-GLOB-tmi_amsre_OI\n",
              "    references:             none\n",
              "    source_data:            TMI-REMSS,AMSRE-REMSS\n",
              "    contact:                support@remss.com\n",
              "    GDS_version_id:         GDS-v1.0-rev1.6\n",
              "    netcdf_version_id:      3.5.0\n",
              "    creation_date:          2010-08-04\n",
              "    product_version:        v03\n",
              "    spatial_resolution:     25 km\n",
              "    start_date:             2003-12-30\n",
              "    start_time:             00:00:00 UTC\n",
              "    stop_date:              2004-01-03\n",
              "    stop_time:              23:59:59 UTC\n",
              "    southernmost_latitude:  -89.875\n",
              "    northernmost_latitude:  89.875\n",
              "    westernmost_longitude:  -179.875\n",
              "    easternmost_longitude:  179.875\n",
              "    file_quality_index:     1\n",
              "    comment:                www.remss.com for more infomation on product\n",
              "    CDO:                    Climate Data Operators version 1.5.3 (http://code...</pre>"
            ],
            "text/plain": [
              "<xarray.Dataset>\n",
              "Dimensions:  (lat: 720, lon: 1440, time: 366)\n",
              "Coordinates:\n",
              "  * lon      (lon) float32 -179.875 -179.625 -179.375 ... 179.625 179.875\n",
              "  * lat      (lat) float32 -89.875 -89.625 -89.375 ... 89.375 89.625 89.875\n",
              "  * time     (time) datetime64[ns] 2004-01-01T12:00:00 ... 1981-01-01\n",
              "Data variables:\n",
              "    SST      (time, lat, lon) float32 ...\n",
              "    SSH      (time, lon, lat) float32 ...\n",
              "    U        (time, lon, lat) float32 ...\n",
              "    V        (time, lon, lat) float32 ...\n",
              "    SLA      (time, lon, lat) float32 ...\n",
              "Attributes:\n",
              "    CDI:                    Climate Data Interface version 1.5.3 (http://code...\n",
              "    Conventions:            CF-1.0\n",
              "    history:                Mon Jul 21 17:26:58 2014: cdo merge SST_SSH_U_V_g...\n",
              "    title:                  Analysed foundation sea surface temperature, global\n",
              "    DSD_entry_id:           REMSS-L4LRfnd-GLOB-tmi_amsre_OI\n",
              "    references:             none\n",
              "    source_data:            TMI-REMSS,AMSRE-REMSS\n",
              "    contact:                support@remss.com\n",
              "    GDS_version_id:         GDS-v1.0-rev1.6\n",
              "    netcdf_version_id:      3.5.0\n",
              "    creation_date:          2010-08-04\n",
              "    product_version:        v03\n",
              "    spatial_resolution:     25 km\n",
              "    start_date:             2003-12-30\n",
              "    start_time:             00:00:00 UTC\n",
              "    stop_date:              2004-01-03\n",
              "    stop_time:              23:59:59 UTC\n",
              "    southernmost_latitude:  -89.875\n",
              "    northernmost_latitude:  89.875\n",
              "    westernmost_longitude:  -179.875\n",
              "    easternmost_longitude:  179.875\n",
              "    file_quality_index:     1\n",
              "    comment:                www.remss.com for more infomation on product\n",
              "    CDO:                    Climate Data Operators version 1.5.3 (http://code..."
            ]
          },
          "metadata": {
            "tags": []
          },
          "execution_count": 105
        }
      ]
    },
    {
      "cell_type": "markdown",
      "metadata": {
        "id": "dh-dZd8u4ISA",
        "colab_type": "text"
      },
      "source": [
        "Print SSH"
      ]
    },
    {
      "cell_type": "code",
      "metadata": {
        "id": "sL5XVcroilBH",
        "colab_type": "code",
        "outputId": "c30266cd-6210-4574-e224-e0b2aec4be68",
        "colab": {
          "base_uri": "https://localhost:8080/",
          "height": 466
        }
      },
      "source": [
        "time_window = 230\n",
        "\n",
        "ds_cut = ds.sel(lon=slice(30,42),lat=slice(-48,-30))\n",
        "ds_cut = ds_cut.isel(time=slice(0,time_window))\n",
        "SSH = ds_cut.SSH.transpose('time','lat','lon')\n",
        "SSH[0].plot()\n",
        "SSH"
      ],
      "execution_count": 106,
      "outputs": [
        {
          "output_type": "execute_result",
          "data": {
            "text/html": [
              "<pre>&lt;xarray.DataArray &#x27;SSH&#x27; (time: 230, lat: 72, lon: 48)&gt;\n",
              "[794880 values with dtype=float32]\n",
              "Coordinates:\n",
              "  * lon      (lon) float32 30.125 30.375 30.625 30.875 ... 41.375 41.625 41.875\n",
              "  * lat      (lat) float32 -47.875 -47.625 -47.375 ... -30.625 -30.375 -30.125\n",
              "  * time     (time) datetime64[ns] 2004-01-01T12:00:00 ... 2004-08-17T12:00:00\n",
              "Attributes:\n",
              "    long_name:        H\n",
              "    units:            cm\n",
              "    _CoordinateAxes:  time NbLongitudes NbLatitudes </pre>"
            ],
            "text/plain": [
              "<xarray.DataArray 'SSH' (time: 230, lat: 72, lon: 48)>\n",
              "[794880 values with dtype=float32]\n",
              "Coordinates:\n",
              "  * lon      (lon) float32 30.125 30.375 30.625 30.875 ... 41.375 41.625 41.875\n",
              "  * lat      (lat) float32 -47.875 -47.625 -47.375 ... -30.625 -30.375 -30.125\n",
              "  * time     (time) datetime64[ns] 2004-01-01T12:00:00 ... 2004-08-17T12:00:00\n",
              "Attributes:\n",
              "    long_name:        H\n",
              "    units:            cm\n",
              "    _CoordinateAxes:  time NbLongitudes NbLatitudes "
            ]
          },
          "metadata": {
            "tags": []
          },
          "execution_count": 106
        },
        {
          "output_type": "display_data",
          "data": {
            "image/png": "[encoded data removed]",
            "text/plain": [
              "<Figure size 432x288 with 2 Axes>"
            ]
          },
          "metadata": {
            "tags": []
          }
        }
      ]
    },
    {
      "cell_type": "markdown",
      "metadata": {
        "id": "GrJh4U154NBq",
        "colab_type": "text"
      },
      "source": [
        "Print SST"
      ]
    },
    {
      "cell_type": "code",
      "metadata": {
        "id": "Fre1fo9_iAlD",
        "colab_type": "code",
        "outputId": "49238475-bebe-4258-ef9d-143eb32b5f7a",
        "colab": {
          "base_uri": "https://localhost:8080/",
          "height": 313
        }
      },
      "source": [
        "SST = ds_cut.SST\n",
        "SST[0].plot()"
      ],
      "execution_count": 107,
      "outputs": [
        {
          "output_type": "execute_result",
          "data": {
            "text/plain": [
              "<matplotlib.collections.QuadMesh at 0x7fab3585c780>"
            ]
          },
          "metadata": {
            "tags": []
          },
          "execution_count": 107
        },
        {
          "output_type": "display_data",
          "data": {
            "image/png": "[encoded data removed]",
            "text/plain": [
              "<Figure size 432x288 with 2 Axes>"
            ]
          },
          "metadata": {
            "tags": []
          }
        }
      ]
    },
    {
      "cell_type": "markdown",
      "metadata": {
        "id": "tPCLmI3L4Q8p",
        "colab_type": "text"
      },
      "source": [
        "Print current"
      ]
    },
    {
      "cell_type": "code",
      "metadata": {
        "id": "h-__2LIGBie3",
        "colab_type": "code",
        "outputId": "b87d389e-ec7c-46bc-d4cc-0f9145b7d545",
        "colab": {
          "base_uri": "https://localhost:8080/",
          "height": 313
        }
      },
      "source": [
        "U = ds_cut.U.transpose('time','lat','lon')\n",
        "V = ds_cut.V.transpose('time','lat','lon')\n",
        "UV = U + V\n",
        "UV[0].plot()"
      ],
      "execution_count": 108,
      "outputs": [
        {
          "output_type": "execute_result",
          "data": {
            "text/plain": [
              "<matplotlib.collections.QuadMesh at 0x7fab3580cac8>"
            ]
          },
          "metadata": {
            "tags": []
          },
          "execution_count": 108
        },
        {
          "output_type": "display_data",
          "data": {
            "image/png": "[encoded data removed]",
            "text/plain": [
              "<Figure size 432x288 with 2 Axes>"
            ]
          },
          "metadata": {
            "tags": []
          }
        }
      ]
    },
    {
      "cell_type": "markdown",
      "metadata": {
        "id": "8mv3vyrB4XPS",
        "colab_type": "text"
      },
      "source": [
        "Compute min and max for all variable for normalization"
      ]
    },
    {
      "cell_type": "code",
      "metadata": {
        "id": "bWp05N1PcLIa",
        "colab_type": "code",
        "outputId": "530dd268-60f7-446b-c577-687d084f3bed",
        "colab": {
          "base_uri": "https://localhost:8080/",
          "height": 297
        }
      },
      "source": [
        "df = ds_cut.to_dataframe()\n",
        "SST_x_max = df.SST.describe(include='all').loc['max']\n",
        "SST_x_min = df.SST.describe(include='all').loc['min']\n",
        "SSH_x_max = df.SSH.describe(include='all').loc['max']\n",
        "SSH_x_min = df.SSH.describe(include='all').loc['min']\n",
        "U_x_max = df.U.describe(include='all').loc['max']\n",
        "U_x_min = df.U.describe(include='all').loc['min']\n",
        "V_x_max = df.V.describe(include='all').loc['max']\n",
        "V_x_min = df.V.describe(include='all').loc['min']\n",
        "df.describe()"
      ],
      "execution_count": 109,
      "outputs": [
        {
          "output_type": "execute_result",
          "data": {
            "text/html": [
              "<div>\n",
              "<style scoped>\n",
              "    .dataframe tbody tr th:only-of-type {\n",
              "        vertical-align: middle;\n",
              "    }\n",
              "\n",
              "    .dataframe tbody tr th {\n",
              "        vertical-align: top;\n",
              "    }\n",
              "\n",
              "    .dataframe thead th {\n",
              "        text-align: right;\n",
              "    }\n",
              "</style>\n",
              "<table border=\"1\" class=\"dataframe\">\n",
              "  <thead>\n",
              "    <tr style=\"text-align: right;\">\n",
              "      <th></th>\n",
              "      <th>SST</th>\n",
              "      <th>SSH</th>\n",
              "      <th>U</th>\n",
              "      <th>V</th>\n",
              "      <th>SLA</th>\n",
              "    </tr>\n",
              "  </thead>\n",
              "  <tbody>\n",
              "    <tr>\n",
              "      <th>count</th>\n",
              "      <td>776250.000000</td>\n",
              "      <td>793730.000000</td>\n",
              "      <td>792810.000000</td>\n",
              "      <td>792810.000000</td>\n",
              "      <td>794880.000000</td>\n",
              "    </tr>\n",
              "    <tr>\n",
              "      <th>mean</th>\n",
              "      <td>289.194275</td>\n",
              "      <td>67.750809</td>\n",
              "      <td>5.971282</td>\n",
              "      <td>0.518709</td>\n",
              "      <td>5.566825</td>\n",
              "    </tr>\n",
              "    <tr>\n",
              "      <th>std</th>\n",
              "      <td>6.360530</td>\n",
              "      <td>54.216053</td>\n",
              "      <td>23.332226</td>\n",
              "      <td>24.456177</td>\n",
              "      <td>18.605196</td>\n",
              "    </tr>\n",
              "    <tr>\n",
              "      <th>min</th>\n",
              "      <td>274.500000</td>\n",
              "      <td>-62.506332</td>\n",
              "      <td>-128.419235</td>\n",
              "      <td>-156.930954</td>\n",
              "      <td>-87.530159</td>\n",
              "    </tr>\n",
              "    <tr>\n",
              "      <th>25%</th>\n",
              "      <td>283.049988</td>\n",
              "      <td>13.110857</td>\n",
              "      <td>-5.437643</td>\n",
              "      <td>-7.530150</td>\n",
              "      <td>-2.750525</td>\n",
              "    </tr>\n",
              "    <tr>\n",
              "      <th>50%</th>\n",
              "      <td>291.449982</td>\n",
              "      <td>83.126221</td>\n",
              "      <td>4.391558</td>\n",
              "      <td>1.037214</td>\n",
              "      <td>4.094619</td>\n",
              "    </tr>\n",
              "    <tr>\n",
              "      <th>75%</th>\n",
              "      <td>294.600006</td>\n",
              "      <td>116.979446</td>\n",
              "      <td>15.411711</td>\n",
              "      <td>9.929499</td>\n",
              "      <td>12.704281</td>\n",
              "    </tr>\n",
              "    <tr>\n",
              "      <th>max</th>\n",
              "      <td>302.100006</td>\n",
              "      <td>202.495773</td>\n",
              "      <td>149.775803</td>\n",
              "      <td>131.770523</td>\n",
              "      <td>89.636559</td>\n",
              "    </tr>\n",
              "  </tbody>\n",
              "</table>\n",
              "</div>"
            ],
            "text/plain": [
              "                 SST            SSH  ...              V            SLA\n",
              "count  776250.000000  793730.000000  ...  792810.000000  794880.000000\n",
              "mean      289.194275      67.750809  ...       0.518709       5.566825\n",
              "std         6.360530      54.216053  ...      24.456177      18.605196\n",
              "min       274.500000     -62.506332  ...    -156.930954     -87.530159\n",
              "25%       283.049988      13.110857  ...      -7.530150      -2.750525\n",
              "50%       291.449982      83.126221  ...       1.037214       4.094619\n",
              "75%       294.600006     116.979446  ...       9.929499      12.704281\n",
              "max       302.100006     202.495773  ...     131.770523      89.636559\n",
              "\n",
              "[8 rows x 5 columns]"
            ]
          },
          "metadata": {
            "tags": []
          },
          "execution_count": 109
        }
      ]
    },
    {
      "cell_type": "code",
      "metadata": {
        "id": "-6wcCxr7y9ew",
        "colab_type": "code",
        "outputId": "2525c4db-06d3-446f-cd67-0bec004b7b05",
        "colab": {
          "base_uri": "https://localhost:8080/",
          "height": 102
        }
      },
      "source": [
        "for v in ds_cut.data_vars:\n",
        "    print('{:>10}: {}'.format(v, ds[v].attrs['long_name']))"
      ],
      "execution_count": 110,
      "outputs": [
        {
          "output_type": "stream",
          "text": [
            "       SST: analysed sea surface temperature\n",
            "       SSH: H\n",
            "         U: U\n",
            "         V: V\n",
            "       SLA: H\n"
          ],
          "name": "stdout"
        }
      ]
    },
    {
      "cell_type": "markdown",
      "metadata": {
        "id": "hNKA1qq0FWG2",
        "colab_type": "text"
      },
      "source": [
        "#Generate patchs"
      ]
    },
    {
      "cell_type": "code",
      "metadata": {
        "id": "-jfNhf9fUs3j",
        "colab_type": "code",
        "colab": {}
      },
      "source": [
        "def pad_with(vector, pad_width, iaxis, kwargs):\n",
        "  pad_value = kwargs.get('padder', 10)\n",
        "  vector[:pad_width[0]] = pad_value\n",
        "  vector[-pad_width[1]:] = pad_value\n",
        "\n",
        "def normalize_negative_one(img):\n",
        "    normalized_input = (img - np.amin(img)) / (np.amax(img) - np.amin(img))\n",
        "    return 2*normalized_input - 1  "
      ],
      "execution_count": 0,
      "outputs": []
    },
    {
      "cell_type": "code",
      "metadata": {
        "colab_type": "code",
        "id": "pbpopbdBhsmP",
        "outputId": "6f456ff4-3ac2-4f3d-8d9f-880f54f69146",
        "colab": {
          "base_uri": "https://localhost:8080/",
          "height": 204
        }
      },
      "source": [
        "from sklearn.feature_extraction import image\n",
        "patch_size_x = 8\n",
        "patch_size_y = 8\n",
        "padding = 4\n",
        "nb_patch = SST.shape[1]*SST.shape[2]\n",
        "print(\"NB PATCH : \" + str(nb_patch))\n",
        "\n",
        "\n",
        "# Create the array that contains all the SSH, SST, U, V patchs, dim: 1D\n",
        "SST_patches = np.empty(([time_window, nb_patch, patch_size_x*patch_size_y]))\n",
        "\n",
        "#fill NaN values with the mean of the SSH, SST, U, V mean\n",
        "SSTf = SST.fillna(SST.mean())\n",
        "SSTf = np.pad(SSTf, padding, pad_with, padder=SSTf.mean())\n",
        "print('SSTf shape: {}'.format(SSTf.shape))\n",
        "\n",
        "\n",
        "SSHf = SSH.fillna(SSH.mean())\n",
        "print('SSH shape: {}'.format(SSH.shape))\n",
        "\n",
        "Uf = U.fillna(U.mean())\n",
        "print('U shape: {}'.format(U.shape))\n",
        "\n",
        "Vf = V.fillna(V.mean())\n",
        "print('V shape: {}'.format(V.shape))\n",
        "\n",
        "SSH_n = np.empty(([time_window, 72,48]))\n",
        "U_n = np.empty(([time_window, 72,48]))\n",
        "V_n = np.empty(([time_window, 72,48]))\n",
        "\n",
        "#for each time step, compute patches of size (13x13), flatten them in 1D and concatenate them in SSH_patches, SST_patches, U_patches, V_patches\n",
        "#output : 1D array of SSH patchs\n",
        "for i in range(ds_cut.time.shape[0]):\n",
        "  if (i%50 == 0):\n",
        "    print(\"Round : \"+ str(i))\n",
        "  \n",
        "  patchesT = image.extract_patches_2d(SSTf[i], (patch_size_x, patch_size_y), max_patches = nb_patch-1, random_state=0) \n",
        "  #print(\" SST_patches shape \" + str(SST_patches.shape) )\n",
        "\n",
        "\n",
        "  SST_p = np.empty(([patch_size_x*patch_size_y]))\n",
        "\n",
        "  \n",
        "  #print(SSH.shape[0])\n",
        "  #for h in range(SSH[0].shape[0]):\n",
        "  SSH_n[i] = (SSHf[i] - SSH_x_min)/(SSH_x_max-SSH_x_min)\n",
        "  U_n[i] = (Uf[i] - U_x_min)/(U_x_max-U_x_min)\n",
        "  V_n[i] = (Vf[i] - V_x_min)/(V_x_max-V_x_min)\n",
        "\n",
        "  # for each patch generated, flatten the patch in 1D and stack it\n",
        "  for j in range(patchesT.shape[0]):\n",
        "    norm_p = (patchesT[j] - SST_x_min)/(SST_x_max-SST_x_min)\n",
        "    flatt = norm_p.flatten()\n",
        "    SST_p = np.vstack((SST_p,flatt))\n",
        "\n",
        "  #print(\"SST \" + str(SST_patches[i].shape))\n",
        "  #print(\"p \" + str(SST_p.shape))\n",
        "  SST_patches[i] = SST_p\n",
        "\n",
        "print('Patches shape: {}'.format(SST_patches.shape))\n"
      ],
      "execution_count": 112,
      "outputs": [
        {
          "output_type": "stream",
          "text": [
            "NB PATCH : 3456\n",
            "SSTf shape: (238, 80, 56)\n",
            "SSH shape: (230, 72, 48)\n",
            "U shape: (230, 72, 48)\n",
            "V shape: (230, 72, 48)\n",
            "Round : 0\n",
            "Round : 50\n",
            "Round : 100\n",
            "Round : 150\n",
            "Round : 200\n",
            "Patches shape: (230, 3456, 64)\n"
          ],
          "name": "stdout"
        }
      ]
    },
    {
      "cell_type": "markdown",
      "metadata": {
        "id": "m0eQKOxB377H",
        "colab_type": "text"
      },
      "source": [
        "Print SST patch"
      ]
    },
    {
      "cell_type": "code",
      "metadata": {
        "id": "ax_FCMUqysca",
        "colab_type": "code",
        "outputId": "3cf9a8f2-510a-4342-d151-78b649cc5575",
        "colab": {
          "base_uri": "https://localhost:8080/",
          "height": 485
        }
      },
      "source": [
        "print(SST_patches[190,12])\n",
        "rs = np.reshape(SST_patches[65,12], (8,8))\n",
        "xr_SST = xr.DataArray(rs)\n",
        "xr_SST.plot()"
      ],
      "execution_count": 113,
      "outputs": [
        {
          "output_type": "stream",
          "text": [
            "[0.69565135 0.69565135 0.69021678 0.68478221 0.67934769 0.67934769\n",
            " 0.67391312 0.6630429  0.701087   0.69565135 0.69021678 0.68478221\n",
            " 0.68478221 0.67934769 0.67391312 0.6630429  0.701087   0.69565135\n",
            " 0.69021678 0.68478221 0.68478221 0.68478221 0.66847748 0.6630429\n",
            " 0.70652157 0.69565135 0.69021678 0.69565135 0.69021678 0.69021678\n",
            " 0.68478221 0.67934769 0.70652157 0.701087   0.701087   0.70652157\n",
            " 0.70652157 0.70652157 0.70652157 0.69021678 0.71195614 0.70652157\n",
            " 0.71195614 0.71739072 0.71739072 0.71739072 0.70652157 0.701087\n",
            " 0.70652157 0.71195614 0.72282529 0.71739072 0.71739072 0.71739072\n",
            " 0.71739072 0.71195614 0.70652157 0.71195614 0.71195614 0.71195614\n",
            " 0.70652157 0.71195614 0.71739072 0.71739072]\n"
          ],
          "name": "stdout"
        },
        {
          "output_type": "execute_result",
          "data": {
            "text/plain": [
              "<matplotlib.collections.QuadMesh at 0x7fab3570da20>"
            ]
          },
          "metadata": {
            "tags": []
          },
          "execution_count": 113
        },
        {
          "output_type": "display_data",
          "data": {
            "image/png": "[encoded data removed]",
            "text/plain": [
              "<Figure size 432x288 with 2 Axes>"
            ]
          },
          "metadata": {
            "tags": []
          }
        }
      ]
    },
    {
      "cell_type": "code",
      "metadata": {
        "id": "GnfK_7a10KZ8",
        "colab_type": "code",
        "outputId": "50977ab2-8b57-4d01-b7b7-eccbf6749bed",
        "colab": {
          "base_uri": "https://localhost:8080/",
          "height": 136
        }
      },
      "source": [
        "print(U_n[0])"
      ],
      "execution_count": 114,
      "outputs": [
        {
          "output_type": "stream",
          "text": [
            "[[0.51532358 0.4911837  0.47216555 ... 0.50105041 0.51752645 0.53486234]\n",
            " [0.50985378 0.48773357 0.47459432 ... 0.50606221 0.5154112  0.52557033]\n",
            " [0.4873243  0.47919881 0.47615692 ... 0.52012742 0.52238053 0.52608317]\n",
            " ...\n",
            " [0.48307988 0.4625113  0.4246487  ... 0.48661163 0.46211392 0.44488329]\n",
            " [0.48307988 0.47784409 0.43814573 ... 0.50110513 0.47143841 0.45164925]\n",
            " [0.48307988 0.48307988 0.48307988 ... 0.51930428 0.49581298 0.48090813]]\n"
          ],
          "name": "stdout"
        }
      ]
    },
    {
      "cell_type": "markdown",
      "metadata": {
        "colab_type": "text",
        "id": "Slrg7AnEuCwt"
      },
      "source": [
        "## II - Training of the compMLP"
      ]
    },
    {
      "cell_type": "markdown",
      "metadata": {
        "id": "bSLtb6F-1Lmb",
        "colab_type": "text"
      },
      "source": [
        "#Description of the model"
      ]
    },
    {
      "cell_type": "code",
      "metadata": {
        "id": "pdy7YCfpzMxI",
        "colab_type": "code",
        "colab": {}
      },
      "source": [
        "class comp_MLP :\n",
        "  def __init__(self, number_mode, X_train, y_train, X_test, y_test):\n",
        "    self.number_mode = number_mode\n",
        "    self.X_train = X_train[0]\n",
        "    self.y_input = X_train[1]\n",
        "    self.y_train = y_train\n",
        "    self.X_test = X_test\n",
        "    self.y_test = y_test\n",
        "    self.comp_mlp = Sequential()\n",
        "\n",
        "  def train(self):   \n",
        "    #set early stopping monitor so the model stops training when it won't improve anymore\n",
        "    early_stopping_monitor = EarlyStopping(patience=5)\n",
        "    #train model\n",
        "    print(self.X_train.shape)\n",
        "    print(\"y_train : \" + str(np.expand_dims(self.y_train, 0).shape))\n",
        "    history = self.comp_mlp.fit([self.X_train,self.y_input], self.y_train, epochs=10, batch_size=1, verbose=1, validation_split=0.2, callbacks=[early_stopping_monitor])\n",
        "    print('\\nhistory dict:', history.history)\n",
        "\n",
        "  def create_model(self):\n",
        "    #for i in range(1, self.number_mode)\n",
        "\n",
        "    #get shape of the training data for the input layer initialization\n",
        "    input_shape = self.X_train[0].shape\n",
        "    X_train = tf.convert_to_tensor(self.X_train, dtype=tf.float32)\n",
        "    y_train = tf.convert_to_tensor(self.y_train, dtype=tf.float32)\n",
        "\n",
        "    print(\"INPUT SHAPE : \" + str(input_shape))\n",
        "\n",
        "    # Define the layers of the model\n",
        "    inp = Input(input_shape)\n",
        "    \n",
        "    self.comp_mlp.add(Dense(3, input_shape=input_shape))\n",
        "    \"\"\"self.comp_mlp.add(Dense(50, activation='relu'))\n",
        "    self.comp_mlp.add(Dense(3))\"\"\"\n",
        "    self.comp_mlp.summary()\n",
        "    \n",
        "    # Generate the 4 MLP\n",
        "    mlp_out_1 = self.comp_mlp(inp)\n",
        "    mlp_out_2 = self.comp_mlp(inp)\n",
        "    mlp_out_3 = self.comp_mlp(inp)\n",
        "    mlp_out_4 = self.comp_mlp(inp)\n",
        "\n",
        "    #Input of the prediction\n",
        "    input_y_shape = self.y_input[0].shape\n",
        "    print(\"Y INPUT : \"+ str(input_y_shape))\n",
        "    #y_input = Input(input_y_shape)\n",
        "\n",
        "    inp_y = Input(input_y_shape)\n",
        "\n",
        "    print(inp_y.shape)\n",
        "    print(mlp_out_1.shape)\n",
        "    # Add a customized layer to compute the weight of each mode\n",
        "    W1 = tf.keras.backend.exp(tf.math.scalar_mul(-1/2,tf.math.square(tf.math.scalar_mul(tf.math.reduce_std(mlp_out_1), layers.subtract([inp_y, mlp_out_1])))))\n",
        "    W2 = tf.keras.backend.exp(tf.math.scalar_mul(-1/2,tf.math.square(tf.math.scalar_mul(tf.math.reduce_std(mlp_out_2), layers.subtract([inp_y, mlp_out_2])))))\n",
        "    W3 = tf.keras.backend.exp(tf.math.scalar_mul(-1/2,tf.math.square(tf.math.scalar_mul(tf.math.reduce_std(mlp_out_3), layers.subtract([inp_y, mlp_out_3])))))\n",
        "    W4 = tf.keras.backend.exp(tf.math.scalar_mul(-1/2,tf.math.square(tf.math.scalar_mul(tf.math.reduce_std(mlp_out_4), layers.subtract([inp_y, mlp_out_4])))))\n",
        "    \n",
        "\n",
        "\n",
        "    print(\"MLP OUTPUT : \" + str(mlp_out_1.shape))\n",
        "    print(\"W1 : \" + str(W1.shape))\n",
        "    #NEED TO REPLICATE THE WEIGHT FROM Kx1 TO Kx3\n",
        "    partial_pred_1 = layers.multiply([mlp_out_1, W1])\n",
        "    partial_pred_2 = layers.multiply([mlp_out_2, W2])\n",
        "    partial_pred_3 = layers.multiply([mlp_out_3, W3])\n",
        "    partial_pred_4 = layers.multiply([mlp_out_4, W4])\n",
        "    print(\"partial pred layer : \" + str(partial_pred_4))\n",
        "\n",
        "    Y_pred_layer =  Lambda(lambda tensors: tf.math.add_n([tensors[0], tensors[1], tensors[2], tensors[3]]))\n",
        "    Y_pred = Y_pred_layer([partial_pred_1, partial_pred_2, partial_pred_3, partial_pred_4 ])\n",
        "    \n",
        "    # Connect the input with the output\n",
        "    self.comp_mlp = Model(inputs=[inp, inp_y],outputs=Y_pred)\n",
        "    print(\"Y PRED SHAPE : \" + str(Y_pred))\n",
        "\n",
        "    #compile model using mse as a measure of model performance (add a custom loss function soon)\n",
        "    self.comp_mlp.compile(optimizer='adam', loss='mse', metrics=['accuracy'])\n",
        "\n",
        "    \"\"\"log_dir=\"logs/fit/\" + datetime.datetime.now().strftime(\"%Y%m%d-%H%M%S\")\n",
        "    self.tensorboard_callback = tf.keras.callbacks.TensorBoard(log_dir=log_dir, histogram_freq=1)\"\"\"\n",
        "\n",
        "\n",
        "  def eval_test(self):\n",
        "    print('\\n# Evaluate on test data')\n",
        "    results = self.comp_mlp.evaluate([self.X_test,self.y_test], self.y_test, batch_size=1)\n",
        "    print('test loss, test acc:', results)\n",
        "\n",
        "\n",
        "  def predict(self):\n",
        "    print(self.X_test.shape)\n",
        "    test_y_predictions = self.comp_mlp.predict([np.expand_dims(self.X_test[0],0),np.expand_dims(self.y_test[0],0)], batch_size=1)\n",
        "    #test_y_predictions = self.comp_mlp.predict_on_batch([np.expand_dims(self.X_train[65],0),np.expand_dims(self.y_train[65],0)])\n",
        "    print(test_y_predictions.shape)\n",
        "    return test_y_predictions"
      ],
      "execution_count": 0,
      "outputs": []
    },
    {
      "cell_type": "code",
      "metadata": {
        "id": "95W0j72Yx9Iv",
        "colab_type": "code",
        "outputId": "c8901b34-94be-46b9-d1b8-d70d400d2059",
        "colab": {
          "base_uri": "https://localhost:8080/",
          "height": 955
        }
      },
      "source": [
        "\n",
        "#X = np.stack((SST_patches,SSH, U, V))\n",
        "X= SST_patches\n",
        "print(X[0].shape)\n",
        "\n",
        "\n",
        "\n",
        "print(\"U : \" + str(U_n.shape))\n",
        "print(\"V : \" + str(V_n.shape))\n",
        "print(\"SSH : \" + str(SSH_n.shape))\n",
        "y = np.stack((SSH_n, U_n, V_n)) \n",
        "y_nb_feature = y.shape[0]\n",
        "#print magique\n",
        "print(SST.shape[2])\n",
        "\n",
        "y = y.reshape((time_window, SST.shape[1]*SST.shape[2],y_nb_feature))\n",
        "print(\"Y shape :\" + str(y.shape))\n",
        "# Split the data into training/testing sets\n",
        "X_train = X[:190]\n",
        "X_test = X[-40:]\n",
        "\n",
        "# Split the targets into training/testing sets\n",
        "y_train = y[:190]\n",
        "y_test = y[-40:]\n",
        "\n",
        "print(\"X_train : \" + str(X_train.shape))\n",
        "print(\"y_train : \" + str(y_train.shape))\n",
        "print(\"X_test : \" + str(X_test.shape))\n",
        "print(\"y_test : \" + str(y_test.shape))\n",
        "input_shape = (X_train.shape[1],)\n",
        "print(input_shape)\n",
        "\n",
        "#create model\n",
        "modelCMLP = comp_MLP(4,[X_train,y_train],y_train, X_test, y_test)\n",
        "\n",
        "modelCMLP.create_model()\n",
        "\n",
        "modelCMLP.train()\n",
        "\n",
        "#modelCMLP.predict()\n"
      ],
      "execution_count": 123,
      "outputs": [
        {
          "output_type": "stream",
          "text": [
            "(3456, 64)\n",
            "U : (230, 72, 48)\n",
            "V : (230, 72, 48)\n",
            "SSH : (230, 72, 48)\n",
            "48\n",
            "Y shape :(230, 3456, 3)\n",
            "X_train : (190, 3456, 64)\n",
            "y_train : (190, 3456, 3)\n",
            "X_test : (40, 3456, 64)\n",
            "y_test : (40, 3456, 3)\n",
            "(3456,)\n",
            "INPUT SHAPE : (3456, 64)\n",
            "Model: \"sequential_10\"\n",
            "_________________________________________________________________\n",
            "Layer (type)                 Output Shape              Param #   \n",
            "=================================================================\n",
            "dense_10 (Dense)             (None, 3456, 3)           195       \n",
            "=================================================================\n",
            "Total params: 195\n",
            "Trainable params: 195\n",
            "Non-trainable params: 0\n",
            "_________________________________________________________________\n",
            "Y INPUT : (3456, 3)\n",
            "(?, 3456, 3)\n",
            "(?, 3456, 3)\n",
            "MLP OUTPUT : (?, 3456, 3)\n",
            "W1 : (?, 3456, 3)\n",
            "partial pred layer : Tensor(\"multiply_43/mul:0\", shape=(?, 3456, 3), dtype=float32)\n",
            "Y PRED SHAPE : Tensor(\"lambda_10/AddN:0\", shape=(?, 3456, 3), dtype=float32)\n",
            "(190, 3456, 64)\n",
            "y_train : (1, 190, 3456, 3)\n",
            "Train on 152 samples, validate on 38 samples\n",
            "Epoch 1/10\n",
            "152/152 [==============================] - 2s 11ms/sample - loss: 0.3737 - acc: 0.3322 - val_loss: 0.1600 - val_acc: 0.3303\n",
            "Epoch 2/10\n",
            "152/152 [==============================] - 1s 6ms/sample - loss: 0.1297 - acc: 0.3388 - val_loss: 0.0960 - val_acc: 0.3538\n",
            "Epoch 3/10\n",
            "152/152 [==============================] - 1s 6ms/sample - loss: 0.0896 - acc: 0.3564 - val_loss: 0.0678 - val_acc: 0.3661\n",
            "Epoch 4/10\n",
            "152/152 [==============================] - 1s 6ms/sample - loss: 0.0711 - acc: 0.3610 - val_loss: 0.0515 - val_acc: 0.3640\n",
            "Epoch 5/10\n",
            "152/152 [==============================] - 1s 6ms/sample - loss: 0.0597 - acc: 0.3567 - val_loss: 0.0419 - val_acc: 0.3700\n",
            "Epoch 6/10\n",
            "152/152 [==============================] - 1s 6ms/sample - loss: 0.0517 - acc: 0.3448 - val_loss: 0.0335 - val_acc: 0.3769\n",
            "Epoch 7/10\n",
            "152/152 [==============================] - 1s 6ms/sample - loss: 0.0461 - acc: 0.3333 - val_loss: 0.0291 - val_acc: 0.3441\n",
            "Epoch 8/10\n",
            "152/152 [==============================] - 1s 6ms/sample - loss: 0.0422 - acc: 0.3309 - val_loss: 0.0259 - val_acc: 0.3764\n",
            "Epoch 9/10\n",
            "152/152 [==============================] - 1s 6ms/sample - loss: 0.0395 - acc: 0.3332 - val_loss: 0.0243 - val_acc: 0.3313\n",
            "Epoch 10/10\n",
            "152/152 [==============================] - 1s 6ms/sample - loss: 0.0374 - acc: 0.3300 - val_loss: 0.0215 - val_acc: 0.3297\n",
            "\n",
            "history dict: {'loss': [0.3737163508899118, 0.12965365773753115, 0.08956372274674083, 0.07111075020542271, 0.05970148205463039, 0.05171787077070851, 0.04613724235739363, 0.042236632189566366, 0.039454869950484285, 0.037379038483394605], 'acc': [0.3321588, 0.33883673, 0.35637867, 0.36098167, 0.35670802, 0.34482744, 0.3332629, 0.33092904, 0.33316392, 0.32997534], 'val_loss': [0.16000221944168994, 0.09595015997949399, 0.0678226960528838, 0.051468646545943464, 0.04185566982548488, 0.033526622053039704, 0.029138233953792798, 0.02594210962323766, 0.024322433789309702, 0.02146681403055003], 'val_acc': [0.3303332, 0.35382402, 0.36610624, 0.36395895, 0.37000486, 0.37685034, 0.34413072, 0.37640107, 0.33133832, 0.32970122]}\n"
          ],
          "name": "stdout"
        }
      ]
    },
    {
      "cell_type": "code",
      "metadata": {
        "id": "J_vu7rNs23PW",
        "colab_type": "code",
        "outputId": "e856c4b1-2a37-4828-a5c2-e238f61d1d96",
        "colab": {
          "base_uri": "https://localhost:8080/",
          "height": 85
        }
      },
      "source": [
        "modelCMLP.eval_test()"
      ],
      "execution_count": 124,
      "outputs": [
        {
          "output_type": "stream",
          "text": [
            "\n",
            "# Evaluate on test data\n",
            "40/40 [==============================] - 0s 4ms/sample - loss: 0.0211 - acc: 0.3342\n",
            "test loss, test acc: [0.02113925330340862, 0.3342231]\n"
          ],
          "name": "stdout"
        }
      ]
    },
    {
      "cell_type": "code",
      "metadata": {
        "id": "W9gs8rmKYDny",
        "colab_type": "code",
        "outputId": "818e798d-3ed2-4018-b189-dfdb6bb36685",
        "colab": {
          "base_uri": "https://localhost:8080/",
          "height": 51
        }
      },
      "source": [
        "res = modelCMLP.predict()"
      ],
      "execution_count": 125,
      "outputs": [
        {
          "output_type": "stream",
          "text": [
            "(40, 3456, 64)\n",
            "(1, 3456, 3)\n"
          ],
          "name": "stdout"
        }
      ]
    },
    {
      "cell_type": "markdown",
      "metadata": {
        "id": "asp78cbu4n0H",
        "colab_type": "text"
      },
      "source": [
        "Print test prediction"
      ]
    },
    {
      "cell_type": "code",
      "metadata": {
        "id": "GMdLm3vLX0jV",
        "colab_type": "code",
        "outputId": "dc4fc486-652c-4162-a95e-518091d50abe",
        "colab": {
          "base_uri": "https://localhost:8080/",
          "height": 603
        }
      },
      "source": [
        "#res_renorm = res*(SSH_x_max-SSH_x_min) + SSH_x_min\n",
        "print(res[0][10])\n",
        "print(\"toto\")\n",
        "print(y_test[0][10])\n",
        "r_res = np.reshape(res[0],(72,48,3))\n",
        "xres = xr.DataArray(r_res)\n",
        "print(xres[:,:,0])\n",
        "#xres[:,0].plot()\n",
        "xres[:,:,0].plot(cmap='viridis')"
      ],
      "execution_count": 126,
      "outputs": [
        {
          "output_type": "stream",
          "text": [
            "[0.42029712 0.55153006 0.36215806]\n",
            "toto\n",
            "[0.64025623 0.62830454 0.60901588]\n",
            "<xarray.DataArray (dim_0: 72, dim_1: 48)>\n",
            "array([[0.6741844 , 0.4818246 , 0.4798232 , ..., 0.4338515 , 0.5140157 ,\n",
            "        0.30904666],\n",
            "       [0.50350493, 0.46840215, 0.31680125, ..., 0.4762085 , 0.45721132,\n",
            "        0.3983007 ],\n",
            "       [0.51204395, 0.44367436, 0.46618998, ..., 0.50912946, 0.58487695,\n",
            "        0.44743523],\n",
            "       ...,\n",
            "       [0.5356887 , 0.5943293 , 0.59625036, ..., 0.4570113 , 0.48434412,\n",
            "        0.56899685],\n",
            "       [0.50498295, 0.44760364, 0.49305514, ..., 0.45495442, 0.50450873,\n",
            "        0.45077986],\n",
            "       [0.52200204, 0.41371343, 0.5299538 , ..., 0.47238874, 0.45735222,\n",
            "        0.4690058 ]], dtype=float32)\n",
            "Dimensions without coordinates: dim_0, dim_1\n"
          ],
          "name": "stdout"
        },
        {
          "output_type": "execute_result",
          "data": {
            "text/plain": [
              "<matplotlib.collections.QuadMesh at 0x7fab34fb0198>"
            ]
          },
          "metadata": {
            "tags": []
          },
          "execution_count": 126
        },
        {
          "output_type": "display_data",
          "data": {
            "image/png": "[encoded data removed]",
            "text/plain": [
              "<Figure size 432x288 with 2 Axes>"
            ]
          },
          "metadata": {
            "tags": []
          }
        }
      ]
    },
    {
      "cell_type": "markdown",
      "metadata": {
        "id": "96LPHANe4upN",
        "colab_type": "text"
      },
      "source": [
        "Print Test ground truth"
      ]
    },
    {
      "cell_type": "code",
      "metadata": {
        "id": "9lfNDrhXQ_a-",
        "colab_type": "code",
        "outputId": "cbeefc44-c607-4255-a806-296f11f170d6",
        "colab": {
          "base_uri": "https://localhost:8080/",
          "height": 415
        }
      },
      "source": [
        "SSH[190].plot()\n",
        "print(SSH_n[190])"
      ],
      "execution_count": 127,
      "outputs": [
        {
          "output_type": "stream",
          "text": [
            "[[0.20488459 0.21537806 0.22216143 ... 0.08285134 0.08879992 0.08927141]\n",
            " [0.23128782 0.23374639 0.23445816 ... 0.09609351 0.10282854 0.10290411]\n",
            " [0.24387787 0.24213637 0.23869437 ... 0.12218087 0.12251884 0.12152429]\n",
            " ...\n",
            " [0.49152902 0.5952388  0.55862844 ... 0.65803242 0.64722663 0.62434614]\n",
            " [0.49152902 0.61928612 0.55700409 ... 0.65564287 0.63889414 0.61387557]\n",
            " [0.49152902 0.49152902 0.49152902 ... 0.66002512 0.6402052  0.61628222]]\n"
          ],
          "name": "stdout"
        },
        {
          "output_type": "display_data",
          "data": {
            "image/png": "[encoded data removed]",
            "text/plain": [
              "<Figure size 432x288 with 2 Axes>"
            ]
          },
          "metadata": {
            "tags": []
          }
        }
      ]
    },
    {
      "cell_type": "code",
      "metadata": {
        "id": "JgCkNMuUv_Lq",
        "colab_type": "code",
        "outputId": "2b1dda69-fc95-404c-ca73-83a3a4af7490",
        "colab": {
          "base_uri": "https://localhost:8080/",
          "height": 313
        }
      },
      "source": [
        "SST[190].plot()"
      ],
      "execution_count": 128,
      "outputs": [
        {
          "output_type": "execute_result",
          "data": {
            "text/plain": [
              "<matplotlib.collections.QuadMesh at 0x7fab34e80780>"
            ]
          },
          "metadata": {
            "tags": []
          },
          "execution_count": 128
        },
        {
          "output_type": "display_data",
          "data": {
            "image/png": "[encoded data removed]",
            "text/plain": [
              "<Figure size 432x288 with 2 Axes>"
            ]
          },
          "metadata": {
            "tags": []
          }
        }
      ]
    },
    {
      "cell_type": "code",
      "metadata": {
        "id": "y3UyQNUJk6bD",
        "colab_type": "code",
        "colab": {}
      },
      "source": [
        ""
      ],
      "execution_count": 0,
      "outputs": []
    }
  ]
}